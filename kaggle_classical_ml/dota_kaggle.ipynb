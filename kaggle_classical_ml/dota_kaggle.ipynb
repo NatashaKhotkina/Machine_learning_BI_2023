{
  "metadata": {
    "kernelspec": {
      "language": "python",
      "display_name": "Python 3",
      "name": "python3"
    },
    "language_info": {
      "name": "python",
      "version": "3.7.12",
      "mimetype": "text/x-python",
      "codemirror_mode": {
        "name": "ipython",
        "version": 3
      },
      "pygments_lexer": "ipython3",
      "nbconvert_exporter": "python",
      "file_extension": ".py"
    },
    "colab": {
      "provenance": []
    },
    "widgets": {
      "application/vnd.jupyter.widget-state+json": {
        "487f7fb823d44b3bb7c918b36993a2c2": {
          "model_module": "@jupyter-widgets/controls",
          "model_name": "HBoxModel",
          "model_module_version": "1.5.0",
          "state": {
            "_dom_classes": [],
            "_model_module": "@jupyter-widgets/controls",
            "_model_module_version": "1.5.0",
            "_model_name": "HBoxModel",
            "_view_count": null,
            "_view_module": "@jupyter-widgets/controls",
            "_view_module_version": "1.5.0",
            "_view_name": "HBoxView",
            "box_style": "",
            "children": [
              "IPY_MODEL_8f4daf55bd8944069fc81f5aecb36f0a",
              "IPY_MODEL_0dec3135005a412eb5b601f7b7016d2e",
              "IPY_MODEL_5ccf005193084b61ba6468901e77ef78"
            ],
            "layout": "IPY_MODEL_135fd790e03649d0b28e9f6413bfc4ee"
          }
        },
        "8f4daf55bd8944069fc81f5aecb36f0a": {
          "model_module": "@jupyter-widgets/controls",
          "model_name": "HTMLModel",
          "model_module_version": "1.5.0",
          "state": {
            "_dom_classes": [],
            "_model_module": "@jupyter-widgets/controls",
            "_model_module_version": "1.5.0",
            "_model_name": "HTMLModel",
            "_view_count": null,
            "_view_module": "@jupyter-widgets/controls",
            "_view_module_version": "1.5.0",
            "_view_name": "HTMLView",
            "description": "",
            "description_tooltip": null,
            "layout": "IPY_MODEL_7d6c5e53fa444d698739b6c059682df2",
            "placeholder": "​",
            "style": "IPY_MODEL_e18142ad264449339160ee81b564f00c",
            "value": "100%"
          }
        },
        "0dec3135005a412eb5b601f7b7016d2e": {
          "model_module": "@jupyter-widgets/controls",
          "model_name": "FloatProgressModel",
          "model_module_version": "1.5.0",
          "state": {
            "_dom_classes": [],
            "_model_module": "@jupyter-widgets/controls",
            "_model_module_version": "1.5.0",
            "_model_name": "FloatProgressModel",
            "_view_count": null,
            "_view_module": "@jupyter-widgets/controls",
            "_view_module_version": "1.5.0",
            "_view_name": "ProgressView",
            "bar_style": "success",
            "description": "",
            "description_tooltip": null,
            "layout": "IPY_MODEL_fbc6f2123f11402d8f701d14b183b852",
            "max": 31698,
            "min": 0,
            "orientation": "horizontal",
            "style": "IPY_MODEL_856f802992d04c8f92128d55f3bf8df4",
            "value": 31698
          }
        },
        "5ccf005193084b61ba6468901e77ef78": {
          "model_module": "@jupyter-widgets/controls",
          "model_name": "HTMLModel",
          "model_module_version": "1.5.0",
          "state": {
            "_dom_classes": [],
            "_model_module": "@jupyter-widgets/controls",
            "_model_module_version": "1.5.0",
            "_model_name": "HTMLModel",
            "_view_count": null,
            "_view_module": "@jupyter-widgets/controls",
            "_view_module_version": "1.5.0",
            "_view_name": "HTMLView",
            "description": "",
            "description_tooltip": null,
            "layout": "IPY_MODEL_a7f0c4e2b8064eadb312a35a7ff30431",
            "placeholder": "​",
            "style": "IPY_MODEL_0c62d9972f934d3f8c3c2b965ba59dfa",
            "value": " 31698/31698 [01:36&lt;00:00, 420.19it/s]"
          }
        },
        "135fd790e03649d0b28e9f6413bfc4ee": {
          "model_module": "@jupyter-widgets/base",
          "model_name": "LayoutModel",
          "model_module_version": "1.2.0",
          "state": {
            "_model_module": "@jupyter-widgets/base",
            "_model_module_version": "1.2.0",
            "_model_name": "LayoutModel",
            "_view_count": null,
            "_view_module": "@jupyter-widgets/base",
            "_view_module_version": "1.2.0",
            "_view_name": "LayoutView",
            "align_content": null,
            "align_items": null,
            "align_self": null,
            "border": null,
            "bottom": null,
            "display": null,
            "flex": null,
            "flex_flow": null,
            "grid_area": null,
            "grid_auto_columns": null,
            "grid_auto_flow": null,
            "grid_auto_rows": null,
            "grid_column": null,
            "grid_gap": null,
            "grid_row": null,
            "grid_template_areas": null,
            "grid_template_columns": null,
            "grid_template_rows": null,
            "height": null,
            "justify_content": null,
            "justify_items": null,
            "left": null,
            "margin": null,
            "max_height": null,
            "max_width": null,
            "min_height": null,
            "min_width": null,
            "object_fit": null,
            "object_position": null,
            "order": null,
            "overflow": null,
            "overflow_x": null,
            "overflow_y": null,
            "padding": null,
            "right": null,
            "top": null,
            "visibility": null,
            "width": null
          }
        },
        "7d6c5e53fa444d698739b6c059682df2": {
          "model_module": "@jupyter-widgets/base",
          "model_name": "LayoutModel",
          "model_module_version": "1.2.0",
          "state": {
            "_model_module": "@jupyter-widgets/base",
            "_model_module_version": "1.2.0",
            "_model_name": "LayoutModel",
            "_view_count": null,
            "_view_module": "@jupyter-widgets/base",
            "_view_module_version": "1.2.0",
            "_view_name": "LayoutView",
            "align_content": null,
            "align_items": null,
            "align_self": null,
            "border": null,
            "bottom": null,
            "display": null,
            "flex": null,
            "flex_flow": null,
            "grid_area": null,
            "grid_auto_columns": null,
            "grid_auto_flow": null,
            "grid_auto_rows": null,
            "grid_column": null,
            "grid_gap": null,
            "grid_row": null,
            "grid_template_areas": null,
            "grid_template_columns": null,
            "grid_template_rows": null,
            "height": null,
            "justify_content": null,
            "justify_items": null,
            "left": null,
            "margin": null,
            "max_height": null,
            "max_width": null,
            "min_height": null,
            "min_width": null,
            "object_fit": null,
            "object_position": null,
            "order": null,
            "overflow": null,
            "overflow_x": null,
            "overflow_y": null,
            "padding": null,
            "right": null,
            "top": null,
            "visibility": null,
            "width": null
          }
        },
        "e18142ad264449339160ee81b564f00c": {
          "model_module": "@jupyter-widgets/controls",
          "model_name": "DescriptionStyleModel",
          "model_module_version": "1.5.0",
          "state": {
            "_model_module": "@jupyter-widgets/controls",
            "_model_module_version": "1.5.0",
            "_model_name": "DescriptionStyleModel",
            "_view_count": null,
            "_view_module": "@jupyter-widgets/base",
            "_view_module_version": "1.2.0",
            "_view_name": "StyleView",
            "description_width": ""
          }
        },
        "fbc6f2123f11402d8f701d14b183b852": {
          "model_module": "@jupyter-widgets/base",
          "model_name": "LayoutModel",
          "model_module_version": "1.2.0",
          "state": {
            "_model_module": "@jupyter-widgets/base",
            "_model_module_version": "1.2.0",
            "_model_name": "LayoutModel",
            "_view_count": null,
            "_view_module": "@jupyter-widgets/base",
            "_view_module_version": "1.2.0",
            "_view_name": "LayoutView",
            "align_content": null,
            "align_items": null,
            "align_self": null,
            "border": null,
            "bottom": null,
            "display": null,
            "flex": null,
            "flex_flow": null,
            "grid_area": null,
            "grid_auto_columns": null,
            "grid_auto_flow": null,
            "grid_auto_rows": null,
            "grid_column": null,
            "grid_gap": null,
            "grid_row": null,
            "grid_template_areas": null,
            "grid_template_columns": null,
            "grid_template_rows": null,
            "height": null,
            "justify_content": null,
            "justify_items": null,
            "left": null,
            "margin": null,
            "max_height": null,
            "max_width": null,
            "min_height": null,
            "min_width": null,
            "object_fit": null,
            "object_position": null,
            "order": null,
            "overflow": null,
            "overflow_x": null,
            "overflow_y": null,
            "padding": null,
            "right": null,
            "top": null,
            "visibility": null,
            "width": null
          }
        },
        "856f802992d04c8f92128d55f3bf8df4": {
          "model_module": "@jupyter-widgets/controls",
          "model_name": "ProgressStyleModel",
          "model_module_version": "1.5.0",
          "state": {
            "_model_module": "@jupyter-widgets/controls",
            "_model_module_version": "1.5.0",
            "_model_name": "ProgressStyleModel",
            "_view_count": null,
            "_view_module": "@jupyter-widgets/base",
            "_view_module_version": "1.2.0",
            "_view_name": "StyleView",
            "bar_color": null,
            "description_width": ""
          }
        },
        "a7f0c4e2b8064eadb312a35a7ff30431": {
          "model_module": "@jupyter-widgets/base",
          "model_name": "LayoutModel",
          "model_module_version": "1.2.0",
          "state": {
            "_model_module": "@jupyter-widgets/base",
            "_model_module_version": "1.2.0",
            "_model_name": "LayoutModel",
            "_view_count": null,
            "_view_module": "@jupyter-widgets/base",
            "_view_module_version": "1.2.0",
            "_view_name": "LayoutView",
            "align_content": null,
            "align_items": null,
            "align_self": null,
            "border": null,
            "bottom": null,
            "display": null,
            "flex": null,
            "flex_flow": null,
            "grid_area": null,
            "grid_auto_columns": null,
            "grid_auto_flow": null,
            "grid_auto_rows": null,
            "grid_column": null,
            "grid_gap": null,
            "grid_row": null,
            "grid_template_areas": null,
            "grid_template_columns": null,
            "grid_template_rows": null,
            "height": null,
            "justify_content": null,
            "justify_items": null,
            "left": null,
            "margin": null,
            "max_height": null,
            "max_width": null,
            "min_height": null,
            "min_width": null,
            "object_fit": null,
            "object_position": null,
            "order": null,
            "overflow": null,
            "overflow_x": null,
            "overflow_y": null,
            "padding": null,
            "right": null,
            "top": null,
            "visibility": null,
            "width": null
          }
        },
        "0c62d9972f934d3f8c3c2b965ba59dfa": {
          "model_module": "@jupyter-widgets/controls",
          "model_name": "DescriptionStyleModel",
          "model_module_version": "1.5.0",
          "state": {
            "_model_module": "@jupyter-widgets/controls",
            "_model_module_version": "1.5.0",
            "_model_name": "DescriptionStyleModel",
            "_view_count": null,
            "_view_module": "@jupyter-widgets/base",
            "_view_module_version": "1.2.0",
            "_view_name": "StyleView",
            "description_width": ""
          }
        },
        "abba51e8fc0a40ceb394569de2ea83c0": {
          "model_module": "@jupyter-widgets/controls",
          "model_name": "HBoxModel",
          "model_module_version": "1.5.0",
          "state": {
            "_dom_classes": [],
            "_model_module": "@jupyter-widgets/controls",
            "_model_module_version": "1.5.0",
            "_model_name": "HBoxModel",
            "_view_count": null,
            "_view_module": "@jupyter-widgets/controls",
            "_view_module_version": "1.5.0",
            "_view_name": "HBoxView",
            "box_style": "",
            "children": [
              "IPY_MODEL_e393b9ec59614689b0a08523b051c35e",
              "IPY_MODEL_1b228dc91f1e451d8dbe746af67bb783",
              "IPY_MODEL_ad1733939b5c42ddaa06c64bf5bc0194"
            ],
            "layout": "IPY_MODEL_67149cb86f2a4403bf87b5b026232358"
          }
        },
        "e393b9ec59614689b0a08523b051c35e": {
          "model_module": "@jupyter-widgets/controls",
          "model_name": "HTMLModel",
          "model_module_version": "1.5.0",
          "state": {
            "_dom_classes": [],
            "_model_module": "@jupyter-widgets/controls",
            "_model_module_version": "1.5.0",
            "_model_name": "HTMLModel",
            "_view_count": null,
            "_view_module": "@jupyter-widgets/controls",
            "_view_module_version": "1.5.0",
            "_view_name": "HTMLView",
            "description": "",
            "description_tooltip": null,
            "layout": "IPY_MODEL_072d9b2cb13943c4affc43b6b812acb5",
            "placeholder": "​",
            "style": "IPY_MODEL_5235dcb162114cb2a8dc9dfac776fd62",
            "value": "100%"
          }
        },
        "1b228dc91f1e451d8dbe746af67bb783": {
          "model_module": "@jupyter-widgets/controls",
          "model_name": "FloatProgressModel",
          "model_module_version": "1.5.0",
          "state": {
            "_dom_classes": [],
            "_model_module": "@jupyter-widgets/controls",
            "_model_module_version": "1.5.0",
            "_model_name": "FloatProgressModel",
            "_view_count": null,
            "_view_module": "@jupyter-widgets/controls",
            "_view_module_version": "1.5.0",
            "_view_name": "ProgressView",
            "bar_style": "success",
            "description": "",
            "description_tooltip": null,
            "layout": "IPY_MODEL_772837f13466453bbde6220db5478272",
            "max": 7977,
            "min": 0,
            "orientation": "horizontal",
            "style": "IPY_MODEL_dfc3ed4b01e24a65a0446cd2c9034a64",
            "value": 7977
          }
        },
        "ad1733939b5c42ddaa06c64bf5bc0194": {
          "model_module": "@jupyter-widgets/controls",
          "model_name": "HTMLModel",
          "model_module_version": "1.5.0",
          "state": {
            "_dom_classes": [],
            "_model_module": "@jupyter-widgets/controls",
            "_model_module_version": "1.5.0",
            "_model_name": "HTMLModel",
            "_view_count": null,
            "_view_module": "@jupyter-widgets/controls",
            "_view_module_version": "1.5.0",
            "_view_name": "HTMLView",
            "description": "",
            "description_tooltip": null,
            "layout": "IPY_MODEL_7734e7525ed241c08d4d9ff6cc8849f5",
            "placeholder": "​",
            "style": "IPY_MODEL_59d03acda79742898d1f78612e2c7c22",
            "value": " 7977/7977 [00:25&lt;00:00, 391.88it/s]"
          }
        },
        "67149cb86f2a4403bf87b5b026232358": {
          "model_module": "@jupyter-widgets/base",
          "model_name": "LayoutModel",
          "model_module_version": "1.2.0",
          "state": {
            "_model_module": "@jupyter-widgets/base",
            "_model_module_version": "1.2.0",
            "_model_name": "LayoutModel",
            "_view_count": null,
            "_view_module": "@jupyter-widgets/base",
            "_view_module_version": "1.2.0",
            "_view_name": "LayoutView",
            "align_content": null,
            "align_items": null,
            "align_self": null,
            "border": null,
            "bottom": null,
            "display": null,
            "flex": null,
            "flex_flow": null,
            "grid_area": null,
            "grid_auto_columns": null,
            "grid_auto_flow": null,
            "grid_auto_rows": null,
            "grid_column": null,
            "grid_gap": null,
            "grid_row": null,
            "grid_template_areas": null,
            "grid_template_columns": null,
            "grid_template_rows": null,
            "height": null,
            "justify_content": null,
            "justify_items": null,
            "left": null,
            "margin": null,
            "max_height": null,
            "max_width": null,
            "min_height": null,
            "min_width": null,
            "object_fit": null,
            "object_position": null,
            "order": null,
            "overflow": null,
            "overflow_x": null,
            "overflow_y": null,
            "padding": null,
            "right": null,
            "top": null,
            "visibility": null,
            "width": null
          }
        },
        "072d9b2cb13943c4affc43b6b812acb5": {
          "model_module": "@jupyter-widgets/base",
          "model_name": "LayoutModel",
          "model_module_version": "1.2.0",
          "state": {
            "_model_module": "@jupyter-widgets/base",
            "_model_module_version": "1.2.0",
            "_model_name": "LayoutModel",
            "_view_count": null,
            "_view_module": "@jupyter-widgets/base",
            "_view_module_version": "1.2.0",
            "_view_name": "LayoutView",
            "align_content": null,
            "align_items": null,
            "align_self": null,
            "border": null,
            "bottom": null,
            "display": null,
            "flex": null,
            "flex_flow": null,
            "grid_area": null,
            "grid_auto_columns": null,
            "grid_auto_flow": null,
            "grid_auto_rows": null,
            "grid_column": null,
            "grid_gap": null,
            "grid_row": null,
            "grid_template_areas": null,
            "grid_template_columns": null,
            "grid_template_rows": null,
            "height": null,
            "justify_content": null,
            "justify_items": null,
            "left": null,
            "margin": null,
            "max_height": null,
            "max_width": null,
            "min_height": null,
            "min_width": null,
            "object_fit": null,
            "object_position": null,
            "order": null,
            "overflow": null,
            "overflow_x": null,
            "overflow_y": null,
            "padding": null,
            "right": null,
            "top": null,
            "visibility": null,
            "width": null
          }
        },
        "5235dcb162114cb2a8dc9dfac776fd62": {
          "model_module": "@jupyter-widgets/controls",
          "model_name": "DescriptionStyleModel",
          "model_module_version": "1.5.0",
          "state": {
            "_model_module": "@jupyter-widgets/controls",
            "_model_module_version": "1.5.0",
            "_model_name": "DescriptionStyleModel",
            "_view_count": null,
            "_view_module": "@jupyter-widgets/base",
            "_view_module_version": "1.2.0",
            "_view_name": "StyleView",
            "description_width": ""
          }
        },
        "772837f13466453bbde6220db5478272": {
          "model_module": "@jupyter-widgets/base",
          "model_name": "LayoutModel",
          "model_module_version": "1.2.0",
          "state": {
            "_model_module": "@jupyter-widgets/base",
            "_model_module_version": "1.2.0",
            "_model_name": "LayoutModel",
            "_view_count": null,
            "_view_module": "@jupyter-widgets/base",
            "_view_module_version": "1.2.0",
            "_view_name": "LayoutView",
            "align_content": null,
            "align_items": null,
            "align_self": null,
            "border": null,
            "bottom": null,
            "display": null,
            "flex": null,
            "flex_flow": null,
            "grid_area": null,
            "grid_auto_columns": null,
            "grid_auto_flow": null,
            "grid_auto_rows": null,
            "grid_column": null,
            "grid_gap": null,
            "grid_row": null,
            "grid_template_areas": null,
            "grid_template_columns": null,
            "grid_template_rows": null,
            "height": null,
            "justify_content": null,
            "justify_items": null,
            "left": null,
            "margin": null,
            "max_height": null,
            "max_width": null,
            "min_height": null,
            "min_width": null,
            "object_fit": null,
            "object_position": null,
            "order": null,
            "overflow": null,
            "overflow_x": null,
            "overflow_y": null,
            "padding": null,
            "right": null,
            "top": null,
            "visibility": null,
            "width": null
          }
        },
        "dfc3ed4b01e24a65a0446cd2c9034a64": {
          "model_module": "@jupyter-widgets/controls",
          "model_name": "ProgressStyleModel",
          "model_module_version": "1.5.0",
          "state": {
            "_model_module": "@jupyter-widgets/controls",
            "_model_module_version": "1.5.0",
            "_model_name": "ProgressStyleModel",
            "_view_count": null,
            "_view_module": "@jupyter-widgets/base",
            "_view_module_version": "1.2.0",
            "_view_name": "StyleView",
            "bar_color": null,
            "description_width": ""
          }
        },
        "7734e7525ed241c08d4d9ff6cc8849f5": {
          "model_module": "@jupyter-widgets/base",
          "model_name": "LayoutModel",
          "model_module_version": "1.2.0",
          "state": {
            "_model_module": "@jupyter-widgets/base",
            "_model_module_version": "1.2.0",
            "_model_name": "LayoutModel",
            "_view_count": null,
            "_view_module": "@jupyter-widgets/base",
            "_view_module_version": "1.2.0",
            "_view_name": "LayoutView",
            "align_content": null,
            "align_items": null,
            "align_self": null,
            "border": null,
            "bottom": null,
            "display": null,
            "flex": null,
            "flex_flow": null,
            "grid_area": null,
            "grid_auto_columns": null,
            "grid_auto_flow": null,
            "grid_auto_rows": null,
            "grid_column": null,
            "grid_gap": null,
            "grid_row": null,
            "grid_template_areas": null,
            "grid_template_columns": null,
            "grid_template_rows": null,
            "height": null,
            "justify_content": null,
            "justify_items": null,
            "left": null,
            "margin": null,
            "max_height": null,
            "max_width": null,
            "min_height": null,
            "min_width": null,
            "object_fit": null,
            "object_position": null,
            "order": null,
            "overflow": null,
            "overflow_x": null,
            "overflow_y": null,
            "padding": null,
            "right": null,
            "top": null,
            "visibility": null,
            "width": null
          }
        },
        "59d03acda79742898d1f78612e2c7c22": {
          "model_module": "@jupyter-widgets/controls",
          "model_name": "DescriptionStyleModel",
          "model_module_version": "1.5.0",
          "state": {
            "_model_module": "@jupyter-widgets/controls",
            "_model_module_version": "1.5.0",
            "_model_name": "DescriptionStyleModel",
            "_view_count": null,
            "_view_module": "@jupyter-widgets/base",
            "_view_module_version": "1.2.0",
            "_view_name": "StyleView",
            "description_width": ""
          }
        }
      }
    }
  },
  "nbformat_minor": 0,
  "nbformat": 4,
  "cells": [
    {
      "cell_type": "markdown",
      "source": [
        "# <center> Предсказание победителя в Dota 2\n",
        "<center> <img src=\"https://meduza.io/impro/YnJZAHUW6WHz_JQm1uRPkTql_qAhbfxt3oFJLGH7CJg/fill/980/0/ce/1/aHR0cHM6Ly9tZWR1/emEuaW8vaW1hZ2Uv/YXR0YWNobWVudHMv/aW1hZ2VzLzAwNy8x/NTcvNjk1L29yaWdp/bmFsL0tMVThLbUti/ZG5pSzlibDA0Wmlw/WXcuanBn.webp\" width=\"700\" height=\"700\">"
      ],
      "metadata": {
        "papermill": {
          "duration": 0.044486,
          "end_time": "2022-02-13T23:28:22.423626",
          "exception": false,
          "start_time": "2022-02-13T23:28:22.37914",
          "status": "completed"
        },
        "tags": [],
        "id": "bJwNsmcoeNdL"
      }
    },
    {
      "cell_type": "markdown",
      "source": [
        "[Почитать подбробнее](https://meduza.io/feature/2021/10/19/rossiyskaya-komanda-vyigrala-chempionat-mira-po-dota-2-i-poluchila-18-millionov-dollarov-postoyte-otkuda-takie-dengi-neuzheli-igrat-v-dotu-tak-slozhno)"
      ],
      "metadata": {
        "papermill": {
          "duration": 0.042953,
          "end_time": "2022-02-13T23:28:22.51031",
          "exception": false,
          "start_time": "2022-02-13T23:28:22.467357",
          "status": "completed"
        },
        "tags": [],
        "id": "0zyq76E4eNdN"
      }
    },
    {
      "cell_type": "markdown",
      "source": [
        "#### [Оригинальная статья](https://arxiv.org/pdf/2106.01782.pdf)\n",
        "    "
      ],
      "metadata": {
        "papermill": {
          "duration": 0.042954,
          "end_time": "2022-02-13T23:28:22.59833",
          "exception": false,
          "start_time": "2022-02-13T23:28:22.555376",
          "status": "completed"
        },
        "tags": [],
        "id": "aUczxELleNdO"
      }
    },
    {
      "cell_type": "markdown",
      "source": [
        "## **Краткий отчет**:\n",
        "\n",
        "1) Подбирала фичи - убрала пару ненужных, сделала one-hot encoding категориальных, добавила одну новую фичу\n",
        "\n",
        "2) Подбирала гиперпараметры для случайного леса, n_estimatores подбирала в конце\n",
        "\n",
        "3) Пробовала другие модели: catboost, lightgbm\n",
        "\n",
        "Catboost требовал меньше всего внимания и взаимодействия, но в итоге дал лучший результат на тесте. На кросс-валидации на трейне лучше всего был lightgbm после optuna, но на тесте отстал от catboost..."
      ],
      "metadata": {
        "id": "2dIgqCDlARat"
      }
    },
    {
      "cell_type": "markdown",
      "source": [
        "### Импорты"
      ],
      "metadata": {
        "papermill": {
          "duration": 0.045141,
          "end_time": "2022-02-13T23:28:22.688388",
          "exception": false,
          "start_time": "2022-02-13T23:28:22.643247",
          "status": "completed"
        },
        "tags": [],
        "id": "FTcX2ApUeNdO"
      }
    },
    {
      "cell_type": "code",
      "source": [
        "!pip install optuna"
      ],
      "metadata": {
        "colab": {
          "base_uri": "https://localhost:8080/"
        },
        "id": "vX5nB2JkfQux",
        "outputId": "bee3f725-e551-4c38-b8b5-389ccb9e56ee"
      },
      "execution_count": null,
      "outputs": [
        {
          "output_type": "stream",
          "name": "stdout",
          "text": [
            "Looking in indexes: https://pypi.org/simple, https://us-python.pkg.dev/colab-wheels/public/simple/\n",
            "Requirement already satisfied: optuna in /usr/local/lib/python3.9/dist-packages (3.1.1)\n",
            "Requirement already satisfied: tqdm in /usr/local/lib/python3.9/dist-packages (from optuna) (4.65.0)\n",
            "Requirement already satisfied: sqlalchemy>=1.3.0 in /usr/local/lib/python3.9/dist-packages (from optuna) (1.4.47)\n",
            "Requirement already satisfied: cmaes>=0.9.1 in /usr/local/lib/python3.9/dist-packages (from optuna) (0.9.1)\n",
            "Requirement already satisfied: PyYAML in /usr/local/lib/python3.9/dist-packages (from optuna) (6.0)\n",
            "Requirement already satisfied: colorlog in /usr/local/lib/python3.9/dist-packages (from optuna) (6.7.0)\n",
            "Requirement already satisfied: numpy in /usr/local/lib/python3.9/dist-packages (from optuna) (1.22.4)\n",
            "Requirement already satisfied: packaging>=20.0 in /usr/local/lib/python3.9/dist-packages (from optuna) (23.0)\n",
            "Requirement already satisfied: alembic>=1.5.0 in /usr/local/lib/python3.9/dist-packages (from optuna) (1.10.3)\n",
            "Requirement already satisfied: Mako in /usr/local/lib/python3.9/dist-packages (from alembic>=1.5.0->optuna) (1.2.4)\n",
            "Requirement already satisfied: typing-extensions>=4 in /usr/local/lib/python3.9/dist-packages (from alembic>=1.5.0->optuna) (4.5.0)\n",
            "Requirement already satisfied: greenlet!=0.4.17 in /usr/local/lib/python3.9/dist-packages (from sqlalchemy>=1.3.0->optuna) (2.0.2)\n",
            "Requirement already satisfied: MarkupSafe>=0.9.2 in /usr/local/lib/python3.9/dist-packages (from Mako->alembic>=1.5.0->optuna) (2.1.2)\n"
          ]
        }
      ]
    },
    {
      "cell_type": "code",
      "source": [
        "import os\n",
        "import json\n",
        "import pandas as pd\n",
        "import datetime\n",
        "import warnings\n",
        "import seaborn as sns\n",
        "import matplotlib.pyplot as plt\n",
        "import optuna\n",
        "from sklearn.model_selection import (train_test_split, ShuffleSplit, \n",
        "                                     cross_val_score,  KFold, cross_validate)\n",
        "from sklearn.ensemble import RandomForestClassifier\n",
        "from sklearn.metrics import roc_auc_score, accuracy_score\n",
        "from sklearn.compose import ColumnTransformer\n",
        "from sklearn.preprocessing import OneHotEncoder\n",
        "from IPython.display import clear_output\n",
        "\n",
        "%matplotlib inline"
      ],
      "metadata": {
        "papermill": {
          "duration": 1.526998,
          "end_time": "2022-02-13T23:28:24.258607",
          "exception": false,
          "start_time": "2022-02-13T23:28:22.731609",
          "status": "completed"
        },
        "tags": [],
        "trusted": true,
        "id": "DS0H3DYfeNdP"
      },
      "execution_count": 160,
      "outputs": []
    },
    {
      "cell_type": "code",
      "source": [
        "SEED = 10801\n",
        "sns.set_style(style=\"whitegrid\")\n",
        "plt.rcParams[\"figure.figsize\"] = 12, 8\n",
        "warnings.filterwarnings(\"ignore\")"
      ],
      "metadata": {
        "papermill": {
          "duration": 0.051811,
          "end_time": "2022-02-13T23:28:24.354647",
          "exception": false,
          "start_time": "2022-02-13T23:28:24.302836",
          "status": "completed"
        },
        "tags": [],
        "trusted": true,
        "id": "YXH0YvOWeNdQ"
      },
      "execution_count": 161,
      "outputs": []
    },
    {
      "cell_type": "markdown",
      "source": [
        "## <left>Описание данных\n",
        "\n",
        "Файлы:\n",
        "\n",
        "- `sample_submission.csv`: пример файла-посылки\n",
        "- `train_raw_data.jsonl`, `test_raw_data.jsonl`: \"сырые\" данные \n",
        "- `train_data.csv`, `test_data.csv`: признаки, созданные авторами\n",
        "- `train_targets.csv`: результаты тренировочных игр"
      ],
      "metadata": {
        "papermill": {
          "duration": 0.042707,
          "end_time": "2022-02-13T23:28:24.441767",
          "exception": false,
          "start_time": "2022-02-13T23:28:24.39906",
          "status": "completed"
        },
        "tags": [],
        "id": "EHdMQiN5eNdR"
      }
    },
    {
      "cell_type": "markdown",
      "source": [
        "## <left>Описание признаков\n",
        "    \n",
        "Набор простых признаков, описывающих игроков и команды в целом"
      ],
      "metadata": {
        "papermill": {
          "duration": 0.042685,
          "end_time": "2022-02-13T23:28:24.527617",
          "exception": false,
          "start_time": "2022-02-13T23:28:24.484932",
          "status": "completed"
        },
        "tags": [],
        "id": "m0l-z80WeNdR"
      }
    },
    {
      "cell_type": "code",
      "source": [
        "from google.colab import drive\n",
        "drive.mount('/content/gdrive')"
      ],
      "metadata": {
        "colab": {
          "base_uri": "https://localhost:8080/"
        },
        "id": "wYDHrv1ifH8x",
        "outputId": "8bd0ab9d-2f29-4563-c8cd-6c9a5546db2b"
      },
      "execution_count": 162,
      "outputs": [
        {
          "output_type": "stream",
          "name": "stdout",
          "text": [
            "Drive already mounted at /content/gdrive; to attempt to forcibly remount, call drive.mount(\"/content/gdrive\", force_remount=True).\n"
          ]
        }
      ]
    },
    {
      "cell_type": "code",
      "source": [
        "#PATH_TO_DATA = \"../input/bi-ml-competition-2023\"\n",
        "PATH_TO_DATA = \"/content/gdrive/MyDrive/dota\"\n",
        "\n",
        "df_train_features = pd.read_csv(os.path.join(PATH_TO_DATA, \n",
        "                                             \"train_data.csv\"), \n",
        "                                index_col=\"match_id_hash\")\n",
        "df_train_targets = pd.read_csv(os.path.join(PATH_TO_DATA, \n",
        "                                            \"train_targets.csv\"), \n",
        "                                   index_col=\"match_id_hash\")\n",
        "\n",
        "df_test_features = pd.read_csv(os.path.join(PATH_TO_DATA, \n",
        "                                             \"test_data.csv\"), \n",
        "                                index_col=\"match_id_hash\")"
      ],
      "metadata": {
        "papermill": {
          "duration": 1.383765,
          "end_time": "2022-02-13T23:28:25.955912",
          "exception": false,
          "start_time": "2022-02-13T23:28:24.572147",
          "status": "completed"
        },
        "tags": [],
        "trusted": true,
        "id": "bPRJDPBteNdR"
      },
      "execution_count": 163,
      "outputs": []
    },
    {
      "cell_type": "code",
      "source": [
        "df_train_features.head()"
      ],
      "metadata": {
        "papermill": {
          "duration": 0.073611,
          "end_time": "2022-02-13T23:28:26.173793",
          "exception": false,
          "start_time": "2022-02-13T23:28:26.100182",
          "status": "completed"
        },
        "tags": [],
        "trusted": true,
        "colab": {
          "base_uri": "https://localhost:8080/",
          "height": 331
        },
        "id": "jfg4bceteNdS",
        "outputId": "1e27c08c-951b-42b3-b619-ac107691948f"
      },
      "execution_count": 164,
      "outputs": [
        {
          "output_type": "execute_result",
          "data": {
            "text/plain": [
              "                                  game_time  game_mode  lobby_type  \\\n",
              "match_id_hash                                                        \n",
              "b9c57c450ce74a2af79c9ce96fac144d        658          4           0   \n",
              "6db558535151ea18ca70a6892197db41         21         23           0   \n",
              "19c39fe2af2b547e48708ca005c6ae74        160         22           7   \n",
              "c96d629dc0c39f0c616d1949938a6ba6       1016         22           0   \n",
              "156c88bff4e9c4668b0f53df3d870f1b        582         22           7   \n",
              "\n",
              "                                  objectives_len  chat_len  r1_hero_id  \\\n",
              "match_id_hash                                                            \n",
              "b9c57c450ce74a2af79c9ce96fac144d               3        10          15   \n",
              "6db558535151ea18ca70a6892197db41               0         0         101   \n",
              "19c39fe2af2b547e48708ca005c6ae74               0         0          57   \n",
              "c96d629dc0c39f0c616d1949938a6ba6               1         0         119   \n",
              "156c88bff4e9c4668b0f53df3d870f1b               2         2          12   \n",
              "\n",
              "                                  r1_kills  r1_deaths  r1_assists  r1_denies  \\\n",
              "match_id_hash                                                                  \n",
              "b9c57c450ce74a2af79c9ce96fac144d         7          2           0          7   \n",
              "6db558535151ea18ca70a6892197db41         0          0           0          0   \n",
              "19c39fe2af2b547e48708ca005c6ae74         0          0           0          1   \n",
              "c96d629dc0c39f0c616d1949938a6ba6         0          3           3          5   \n",
              "156c88bff4e9c4668b0f53df3d870f1b         3          1           2          9   \n",
              "\n",
              "                                  ...   d5_stuns  d5_creeps_stacked  \\\n",
              "match_id_hash                     ...                                 \n",
              "b9c57c450ce74a2af79c9ce96fac144d  ...   0.000000                  0   \n",
              "6db558535151ea18ca70a6892197db41  ...   0.000000                  0   \n",
              "19c39fe2af2b547e48708ca005c6ae74  ...   0.000000                  0   \n",
              "c96d629dc0c39f0c616d1949938a6ba6  ...   8.264696                  0   \n",
              "156c88bff4e9c4668b0f53df3d870f1b  ...  15.762911                  3   \n",
              "\n",
              "                                  d5_camps_stacked  d5_rune_pickups  \\\n",
              "match_id_hash                                                         \n",
              "b9c57c450ce74a2af79c9ce96fac144d                 0                0   \n",
              "6db558535151ea18ca70a6892197db41                 0                0   \n",
              "19c39fe2af2b547e48708ca005c6ae74                 0                0   \n",
              "c96d629dc0c39f0c616d1949938a6ba6                 0                3   \n",
              "156c88bff4e9c4668b0f53df3d870f1b                 1                0   \n",
              "\n",
              "                                  d5_firstblood_claimed  \\\n",
              "match_id_hash                                             \n",
              "b9c57c450ce74a2af79c9ce96fac144d                      0   \n",
              "6db558535151ea18ca70a6892197db41                      0   \n",
              "19c39fe2af2b547e48708ca005c6ae74                      0   \n",
              "c96d629dc0c39f0c616d1949938a6ba6                      0   \n",
              "156c88bff4e9c4668b0f53df3d870f1b                      1   \n",
              "\n",
              "                                  d5_teamfight_participation  \\\n",
              "match_id_hash                                                  \n",
              "b9c57c450ce74a2af79c9ce96fac144d                        0.00   \n",
              "6db558535151ea18ca70a6892197db41                        0.00   \n",
              "19c39fe2af2b547e48708ca005c6ae74                        0.00   \n",
              "c96d629dc0c39f0c616d1949938a6ba6                        0.25   \n",
              "156c88bff4e9c4668b0f53df3d870f1b                        0.50   \n",
              "\n",
              "                                  d5_towers_killed  d5_roshans_killed  \\\n",
              "match_id_hash                                                           \n",
              "b9c57c450ce74a2af79c9ce96fac144d                 0                  0   \n",
              "6db558535151ea18ca70a6892197db41                 0                  0   \n",
              "19c39fe2af2b547e48708ca005c6ae74                 0                  0   \n",
              "c96d629dc0c39f0c616d1949938a6ba6                 0                  0   \n",
              "156c88bff4e9c4668b0f53df3d870f1b                 0                  0   \n",
              "\n",
              "                                  d5_obs_placed  d5_sen_placed  \n",
              "match_id_hash                                                   \n",
              "b9c57c450ce74a2af79c9ce96fac144d              0              0  \n",
              "6db558535151ea18ca70a6892197db41              0              0  \n",
              "19c39fe2af2b547e48708ca005c6ae74              0              0  \n",
              "c96d629dc0c39f0c616d1949938a6ba6              3              0  \n",
              "156c88bff4e9c4668b0f53df3d870f1b              3              0  \n",
              "\n",
              "[5 rows x 245 columns]"
            ],
            "text/html": [
              "\n",
              "  <div id=\"df-92a55ec7-311d-46af-a877-7080be3736ee\">\n",
              "    <div class=\"colab-df-container\">\n",
              "      <div>\n",
              "<style scoped>\n",
              "    .dataframe tbody tr th:only-of-type {\n",
              "        vertical-align: middle;\n",
              "    }\n",
              "\n",
              "    .dataframe tbody tr th {\n",
              "        vertical-align: top;\n",
              "    }\n",
              "\n",
              "    .dataframe thead th {\n",
              "        text-align: right;\n",
              "    }\n",
              "</style>\n",
              "<table border=\"1\" class=\"dataframe\">\n",
              "  <thead>\n",
              "    <tr style=\"text-align: right;\">\n",
              "      <th></th>\n",
              "      <th>game_time</th>\n",
              "      <th>game_mode</th>\n",
              "      <th>lobby_type</th>\n",
              "      <th>objectives_len</th>\n",
              "      <th>chat_len</th>\n",
              "      <th>r1_hero_id</th>\n",
              "      <th>r1_kills</th>\n",
              "      <th>r1_deaths</th>\n",
              "      <th>r1_assists</th>\n",
              "      <th>r1_denies</th>\n",
              "      <th>...</th>\n",
              "      <th>d5_stuns</th>\n",
              "      <th>d5_creeps_stacked</th>\n",
              "      <th>d5_camps_stacked</th>\n",
              "      <th>d5_rune_pickups</th>\n",
              "      <th>d5_firstblood_claimed</th>\n",
              "      <th>d5_teamfight_participation</th>\n",
              "      <th>d5_towers_killed</th>\n",
              "      <th>d5_roshans_killed</th>\n",
              "      <th>d5_obs_placed</th>\n",
              "      <th>d5_sen_placed</th>\n",
              "    </tr>\n",
              "    <tr>\n",
              "      <th>match_id_hash</th>\n",
              "      <th></th>\n",
              "      <th></th>\n",
              "      <th></th>\n",
              "      <th></th>\n",
              "      <th></th>\n",
              "      <th></th>\n",
              "      <th></th>\n",
              "      <th></th>\n",
              "      <th></th>\n",
              "      <th></th>\n",
              "      <th></th>\n",
              "      <th></th>\n",
              "      <th></th>\n",
              "      <th></th>\n",
              "      <th></th>\n",
              "      <th></th>\n",
              "      <th></th>\n",
              "      <th></th>\n",
              "      <th></th>\n",
              "      <th></th>\n",
              "      <th></th>\n",
              "    </tr>\n",
              "  </thead>\n",
              "  <tbody>\n",
              "    <tr>\n",
              "      <th>b9c57c450ce74a2af79c9ce96fac144d</th>\n",
              "      <td>658</td>\n",
              "      <td>4</td>\n",
              "      <td>0</td>\n",
              "      <td>3</td>\n",
              "      <td>10</td>\n",
              "      <td>15</td>\n",
              "      <td>7</td>\n",
              "      <td>2</td>\n",
              "      <td>0</td>\n",
              "      <td>7</td>\n",
              "      <td>...</td>\n",
              "      <td>0.000000</td>\n",
              "      <td>0</td>\n",
              "      <td>0</td>\n",
              "      <td>0</td>\n",
              "      <td>0</td>\n",
              "      <td>0.00</td>\n",
              "      <td>0</td>\n",
              "      <td>0</td>\n",
              "      <td>0</td>\n",
              "      <td>0</td>\n",
              "    </tr>\n",
              "    <tr>\n",
              "      <th>6db558535151ea18ca70a6892197db41</th>\n",
              "      <td>21</td>\n",
              "      <td>23</td>\n",
              "      <td>0</td>\n",
              "      <td>0</td>\n",
              "      <td>0</td>\n",
              "      <td>101</td>\n",
              "      <td>0</td>\n",
              "      <td>0</td>\n",
              "      <td>0</td>\n",
              "      <td>0</td>\n",
              "      <td>...</td>\n",
              "      <td>0.000000</td>\n",
              "      <td>0</td>\n",
              "      <td>0</td>\n",
              "      <td>0</td>\n",
              "      <td>0</td>\n",
              "      <td>0.00</td>\n",
              "      <td>0</td>\n",
              "      <td>0</td>\n",
              "      <td>0</td>\n",
              "      <td>0</td>\n",
              "    </tr>\n",
              "    <tr>\n",
              "      <th>19c39fe2af2b547e48708ca005c6ae74</th>\n",
              "      <td>160</td>\n",
              "      <td>22</td>\n",
              "      <td>7</td>\n",
              "      <td>0</td>\n",
              "      <td>0</td>\n",
              "      <td>57</td>\n",
              "      <td>0</td>\n",
              "      <td>0</td>\n",
              "      <td>0</td>\n",
              "      <td>1</td>\n",
              "      <td>...</td>\n",
              "      <td>0.000000</td>\n",
              "      <td>0</td>\n",
              "      <td>0</td>\n",
              "      <td>0</td>\n",
              "      <td>0</td>\n",
              "      <td>0.00</td>\n",
              "      <td>0</td>\n",
              "      <td>0</td>\n",
              "      <td>0</td>\n",
              "      <td>0</td>\n",
              "    </tr>\n",
              "    <tr>\n",
              "      <th>c96d629dc0c39f0c616d1949938a6ba6</th>\n",
              "      <td>1016</td>\n",
              "      <td>22</td>\n",
              "      <td>0</td>\n",
              "      <td>1</td>\n",
              "      <td>0</td>\n",
              "      <td>119</td>\n",
              "      <td>0</td>\n",
              "      <td>3</td>\n",
              "      <td>3</td>\n",
              "      <td>5</td>\n",
              "      <td>...</td>\n",
              "      <td>8.264696</td>\n",
              "      <td>0</td>\n",
              "      <td>0</td>\n",
              "      <td>3</td>\n",
              "      <td>0</td>\n",
              "      <td>0.25</td>\n",
              "      <td>0</td>\n",
              "      <td>0</td>\n",
              "      <td>3</td>\n",
              "      <td>0</td>\n",
              "    </tr>\n",
              "    <tr>\n",
              "      <th>156c88bff4e9c4668b0f53df3d870f1b</th>\n",
              "      <td>582</td>\n",
              "      <td>22</td>\n",
              "      <td>7</td>\n",
              "      <td>2</td>\n",
              "      <td>2</td>\n",
              "      <td>12</td>\n",
              "      <td>3</td>\n",
              "      <td>1</td>\n",
              "      <td>2</td>\n",
              "      <td>9</td>\n",
              "      <td>...</td>\n",
              "      <td>15.762911</td>\n",
              "      <td>3</td>\n",
              "      <td>1</td>\n",
              "      <td>0</td>\n",
              "      <td>1</td>\n",
              "      <td>0.50</td>\n",
              "      <td>0</td>\n",
              "      <td>0</td>\n",
              "      <td>3</td>\n",
              "      <td>0</td>\n",
              "    </tr>\n",
              "  </tbody>\n",
              "</table>\n",
              "<p>5 rows × 245 columns</p>\n",
              "</div>\n",
              "      <button class=\"colab-df-convert\" onclick=\"convertToInteractive('df-92a55ec7-311d-46af-a877-7080be3736ee')\"\n",
              "              title=\"Convert this dataframe to an interactive table.\"\n",
              "              style=\"display:none;\">\n",
              "        \n",
              "  <svg xmlns=\"http://www.w3.org/2000/svg\" height=\"24px\"viewBox=\"0 0 24 24\"\n",
              "       width=\"24px\">\n",
              "    <path d=\"M0 0h24v24H0V0z\" fill=\"none\"/>\n",
              "    <path d=\"M18.56 5.44l.94 2.06.94-2.06 2.06-.94-2.06-.94-.94-2.06-.94 2.06-2.06.94zm-11 1L8.5 8.5l.94-2.06 2.06-.94-2.06-.94L8.5 2.5l-.94 2.06-2.06.94zm10 10l.94 2.06.94-2.06 2.06-.94-2.06-.94-.94-2.06-.94 2.06-2.06.94z\"/><path d=\"M17.41 7.96l-1.37-1.37c-.4-.4-.92-.59-1.43-.59-.52 0-1.04.2-1.43.59L10.3 9.45l-7.72 7.72c-.78.78-.78 2.05 0 2.83L4 21.41c.39.39.9.59 1.41.59.51 0 1.02-.2 1.41-.59l7.78-7.78 2.81-2.81c.8-.78.8-2.07 0-2.86zM5.41 20L4 18.59l7.72-7.72 1.47 1.35L5.41 20z\"/>\n",
              "  </svg>\n",
              "      </button>\n",
              "      \n",
              "  <style>\n",
              "    .colab-df-container {\n",
              "      display:flex;\n",
              "      flex-wrap:wrap;\n",
              "      gap: 12px;\n",
              "    }\n",
              "\n",
              "    .colab-df-convert {\n",
              "      background-color: #E8F0FE;\n",
              "      border: none;\n",
              "      border-radius: 50%;\n",
              "      cursor: pointer;\n",
              "      display: none;\n",
              "      fill: #1967D2;\n",
              "      height: 32px;\n",
              "      padding: 0 0 0 0;\n",
              "      width: 32px;\n",
              "    }\n",
              "\n",
              "    .colab-df-convert:hover {\n",
              "      background-color: #E2EBFA;\n",
              "      box-shadow: 0px 1px 2px rgba(60, 64, 67, 0.3), 0px 1px 3px 1px rgba(60, 64, 67, 0.15);\n",
              "      fill: #174EA6;\n",
              "    }\n",
              "\n",
              "    [theme=dark] .colab-df-convert {\n",
              "      background-color: #3B4455;\n",
              "      fill: #D2E3FC;\n",
              "    }\n",
              "\n",
              "    [theme=dark] .colab-df-convert:hover {\n",
              "      background-color: #434B5C;\n",
              "      box-shadow: 0px 1px 3px 1px rgba(0, 0, 0, 0.15);\n",
              "      filter: drop-shadow(0px 1px 2px rgba(0, 0, 0, 0.3));\n",
              "      fill: #FFFFFF;\n",
              "    }\n",
              "  </style>\n",
              "\n",
              "      <script>\n",
              "        const buttonEl =\n",
              "          document.querySelector('#df-92a55ec7-311d-46af-a877-7080be3736ee button.colab-df-convert');\n",
              "        buttonEl.style.display =\n",
              "          google.colab.kernel.accessAllowed ? 'block' : 'none';\n",
              "\n",
              "        async function convertToInteractive(key) {\n",
              "          const element = document.querySelector('#df-92a55ec7-311d-46af-a877-7080be3736ee');\n",
              "          const dataTable =\n",
              "            await google.colab.kernel.invokeFunction('convertToInteractive',\n",
              "                                                     [key], {});\n",
              "          if (!dataTable) return;\n",
              "\n",
              "          const docLinkHtml = 'Like what you see? Visit the ' +\n",
              "            '<a target=\"_blank\" href=https://colab.research.google.com/notebooks/data_table.ipynb>data table notebook</a>'\n",
              "            + ' to learn more about interactive tables.';\n",
              "          element.innerHTML = '';\n",
              "          dataTable['output_type'] = 'display_data';\n",
              "          await google.colab.output.renderOutput(dataTable, element);\n",
              "          const docLink = document.createElement('div');\n",
              "          docLink.innerHTML = docLinkHtml;\n",
              "          element.appendChild(docLink);\n",
              "        }\n",
              "      </script>\n",
              "    </div>\n",
              "  </div>\n",
              "  "
            ]
          },
          "metadata": {},
          "execution_count": 164
        }
      ]
    },
    {
      "cell_type": "markdown",
      "source": [
        "Имеем ~32 тысячи наблюдений, каждое из которых характеризуется уникальным `match_id_hash` (захэшированное id матча), и 245 признаков. `game_time` показывает момент времени, в который получены эти данные. То есть по сути это не длительность самого матча, а например, его середина, таким образом, в итоге мы сможем получить модель, которая будет предсказывать вероятность победы каждой из команд в течение матча (хорошо подходит для букмекеров)."
      ],
      "metadata": {
        "papermill": {
          "duration": 0.043707,
          "end_time": "2022-02-13T23:28:26.26179",
          "exception": false,
          "start_time": "2022-02-13T23:28:26.218083",
          "status": "completed"
        },
        "tags": [],
        "id": "LBh0UqoaeNdS"
      }
    },
    {
      "cell_type": "markdown",
      "source": [
        "Нас интересует поле `radiant_win` (так называется одна из команд, вторая - dire). Остальные колоки здесь по сути получены из \"будущего\" и есть только для тренировочных данных, поэтому на них можно просто посмотреть)."
      ],
      "metadata": {
        "papermill": {
          "duration": 0.043619,
          "end_time": "2022-02-13T23:28:26.350788",
          "exception": false,
          "start_time": "2022-02-13T23:28:26.307169",
          "status": "completed"
        },
        "tags": [],
        "id": "fz1DyJdpeNdS"
      }
    },
    {
      "cell_type": "code",
      "source": [
        "df_train_targets.head()"
      ],
      "metadata": {
        "papermill": {
          "duration": 0.059594,
          "end_time": "2022-02-13T23:28:26.454584",
          "exception": false,
          "start_time": "2022-02-13T23:28:26.39499",
          "status": "completed"
        },
        "tags": [],
        "trusted": true,
        "colab": {
          "base_uri": "https://localhost:8080/",
          "height": 238
        },
        "id": "MT2_HOeweNdT",
        "outputId": "c450d291-dbfa-4407-9d46-ce3e391e0e4a"
      },
      "execution_count": null,
      "outputs": [
        {
          "output_type": "execute_result",
          "data": {
            "text/plain": [
              "                                  game_time  radiant_win  duration  \\\n",
              "match_id_hash                                                        \n",
              "b9c57c450ce74a2af79c9ce96fac144d        658         True      1154   \n",
              "6db558535151ea18ca70a6892197db41         21         True      1503   \n",
              "19c39fe2af2b547e48708ca005c6ae74        160        False      2063   \n",
              "c96d629dc0c39f0c616d1949938a6ba6       1016         True      2147   \n",
              "156c88bff4e9c4668b0f53df3d870f1b        582        False      1927   \n",
              "\n",
              "                                  time_remaining next_roshan_team  \n",
              "match_id_hash                                                      \n",
              "b9c57c450ce74a2af79c9ce96fac144d             496              NaN  \n",
              "6db558535151ea18ca70a6892197db41            1482          Radiant  \n",
              "19c39fe2af2b547e48708ca005c6ae74            1903              NaN  \n",
              "c96d629dc0c39f0c616d1949938a6ba6            1131          Radiant  \n",
              "156c88bff4e9c4668b0f53df3d870f1b            1345             Dire  "
            ],
            "text/html": [
              "\n",
              "  <div id=\"df-e9a4ccb7-9f29-4e99-8de3-7efc73a03c78\">\n",
              "    <div class=\"colab-df-container\">\n",
              "      <div>\n",
              "<style scoped>\n",
              "    .dataframe tbody tr th:only-of-type {\n",
              "        vertical-align: middle;\n",
              "    }\n",
              "\n",
              "    .dataframe tbody tr th {\n",
              "        vertical-align: top;\n",
              "    }\n",
              "\n",
              "    .dataframe thead th {\n",
              "        text-align: right;\n",
              "    }\n",
              "</style>\n",
              "<table border=\"1\" class=\"dataframe\">\n",
              "  <thead>\n",
              "    <tr style=\"text-align: right;\">\n",
              "      <th></th>\n",
              "      <th>game_time</th>\n",
              "      <th>radiant_win</th>\n",
              "      <th>duration</th>\n",
              "      <th>time_remaining</th>\n",
              "      <th>next_roshan_team</th>\n",
              "    </tr>\n",
              "    <tr>\n",
              "      <th>match_id_hash</th>\n",
              "      <th></th>\n",
              "      <th></th>\n",
              "      <th></th>\n",
              "      <th></th>\n",
              "      <th></th>\n",
              "    </tr>\n",
              "  </thead>\n",
              "  <tbody>\n",
              "    <tr>\n",
              "      <th>b9c57c450ce74a2af79c9ce96fac144d</th>\n",
              "      <td>658</td>\n",
              "      <td>True</td>\n",
              "      <td>1154</td>\n",
              "      <td>496</td>\n",
              "      <td>NaN</td>\n",
              "    </tr>\n",
              "    <tr>\n",
              "      <th>6db558535151ea18ca70a6892197db41</th>\n",
              "      <td>21</td>\n",
              "      <td>True</td>\n",
              "      <td>1503</td>\n",
              "      <td>1482</td>\n",
              "      <td>Radiant</td>\n",
              "    </tr>\n",
              "    <tr>\n",
              "      <th>19c39fe2af2b547e48708ca005c6ae74</th>\n",
              "      <td>160</td>\n",
              "      <td>False</td>\n",
              "      <td>2063</td>\n",
              "      <td>1903</td>\n",
              "      <td>NaN</td>\n",
              "    </tr>\n",
              "    <tr>\n",
              "      <th>c96d629dc0c39f0c616d1949938a6ba6</th>\n",
              "      <td>1016</td>\n",
              "      <td>True</td>\n",
              "      <td>2147</td>\n",
              "      <td>1131</td>\n",
              "      <td>Radiant</td>\n",
              "    </tr>\n",
              "    <tr>\n",
              "      <th>156c88bff4e9c4668b0f53df3d870f1b</th>\n",
              "      <td>582</td>\n",
              "      <td>False</td>\n",
              "      <td>1927</td>\n",
              "      <td>1345</td>\n",
              "      <td>Dire</td>\n",
              "    </tr>\n",
              "  </tbody>\n",
              "</table>\n",
              "</div>\n",
              "      <button class=\"colab-df-convert\" onclick=\"convertToInteractive('df-e9a4ccb7-9f29-4e99-8de3-7efc73a03c78')\"\n",
              "              title=\"Convert this dataframe to an interactive table.\"\n",
              "              style=\"display:none;\">\n",
              "        \n",
              "  <svg xmlns=\"http://www.w3.org/2000/svg\" height=\"24px\"viewBox=\"0 0 24 24\"\n",
              "       width=\"24px\">\n",
              "    <path d=\"M0 0h24v24H0V0z\" fill=\"none\"/>\n",
              "    <path d=\"M18.56 5.44l.94 2.06.94-2.06 2.06-.94-2.06-.94-.94-2.06-.94 2.06-2.06.94zm-11 1L8.5 8.5l.94-2.06 2.06-.94-2.06-.94L8.5 2.5l-.94 2.06-2.06.94zm10 10l.94 2.06.94-2.06 2.06-.94-2.06-.94-.94-2.06-.94 2.06-2.06.94z\"/><path d=\"M17.41 7.96l-1.37-1.37c-.4-.4-.92-.59-1.43-.59-.52 0-1.04.2-1.43.59L10.3 9.45l-7.72 7.72c-.78.78-.78 2.05 0 2.83L4 21.41c.39.39.9.59 1.41.59.51 0 1.02-.2 1.41-.59l7.78-7.78 2.81-2.81c.8-.78.8-2.07 0-2.86zM5.41 20L4 18.59l7.72-7.72 1.47 1.35L5.41 20z\"/>\n",
              "  </svg>\n",
              "      </button>\n",
              "      \n",
              "  <style>\n",
              "    .colab-df-container {\n",
              "      display:flex;\n",
              "      flex-wrap:wrap;\n",
              "      gap: 12px;\n",
              "    }\n",
              "\n",
              "    .colab-df-convert {\n",
              "      background-color: #E8F0FE;\n",
              "      border: none;\n",
              "      border-radius: 50%;\n",
              "      cursor: pointer;\n",
              "      display: none;\n",
              "      fill: #1967D2;\n",
              "      height: 32px;\n",
              "      padding: 0 0 0 0;\n",
              "      width: 32px;\n",
              "    }\n",
              "\n",
              "    .colab-df-convert:hover {\n",
              "      background-color: #E2EBFA;\n",
              "      box-shadow: 0px 1px 2px rgba(60, 64, 67, 0.3), 0px 1px 3px 1px rgba(60, 64, 67, 0.15);\n",
              "      fill: #174EA6;\n",
              "    }\n",
              "\n",
              "    [theme=dark] .colab-df-convert {\n",
              "      background-color: #3B4455;\n",
              "      fill: #D2E3FC;\n",
              "    }\n",
              "\n",
              "    [theme=dark] .colab-df-convert:hover {\n",
              "      background-color: #434B5C;\n",
              "      box-shadow: 0px 1px 3px 1px rgba(0, 0, 0, 0.15);\n",
              "      filter: drop-shadow(0px 1px 2px rgba(0, 0, 0, 0.3));\n",
              "      fill: #FFFFFF;\n",
              "    }\n",
              "  </style>\n",
              "\n",
              "      <script>\n",
              "        const buttonEl =\n",
              "          document.querySelector('#df-e9a4ccb7-9f29-4e99-8de3-7efc73a03c78 button.colab-df-convert');\n",
              "        buttonEl.style.display =\n",
              "          google.colab.kernel.accessAllowed ? 'block' : 'none';\n",
              "\n",
              "        async function convertToInteractive(key) {\n",
              "          const element = document.querySelector('#df-e9a4ccb7-9f29-4e99-8de3-7efc73a03c78');\n",
              "          const dataTable =\n",
              "            await google.colab.kernel.invokeFunction('convertToInteractive',\n",
              "                                                     [key], {});\n",
              "          if (!dataTable) return;\n",
              "\n",
              "          const docLinkHtml = 'Like what you see? Visit the ' +\n",
              "            '<a target=\"_blank\" href=https://colab.research.google.com/notebooks/data_table.ipynb>data table notebook</a>'\n",
              "            + ' to learn more about interactive tables.';\n",
              "          element.innerHTML = '';\n",
              "          dataTable['output_type'] = 'display_data';\n",
              "          await google.colab.output.renderOutput(dataTable, element);\n",
              "          const docLink = document.createElement('div');\n",
              "          docLink.innerHTML = docLinkHtml;\n",
              "          element.appendChild(docLink);\n",
              "        }\n",
              "      </script>\n",
              "    </div>\n",
              "  </div>\n",
              "  "
            ]
          },
          "metadata": {},
          "execution_count": 12
        }
      ]
    },
    {
      "cell_type": "markdown",
      "source": [
        "## <left>Что есть в json файлах?"
      ],
      "metadata": {
        "papermill": {
          "duration": 0.04757,
          "end_time": "2022-02-13T23:29:33.025145",
          "exception": false,
          "start_time": "2022-02-13T23:29:32.977575",
          "status": "completed"
        },
        "tags": [],
        "id": "rBf7Ixl_eNdZ"
      }
    },
    {
      "cell_type": "markdown",
      "source": [
        "Описание сырых данных можно найти в `train_matches.jsonl` и `test_matches.jsonl`. Каждый файл содержит одну запись для каждого матча в [JSON](https://en.wikipedia.org/wiki/JSON) формате. Его легко превратить в питоновский объект при помощи метода `json.loads`."
      ],
      "metadata": {
        "papermill": {
          "duration": 0.048776,
          "end_time": "2022-02-13T23:29:33.122475",
          "exception": false,
          "start_time": "2022-02-13T23:29:33.073699",
          "status": "completed"
        },
        "tags": [],
        "id": "Rk0n8vi5eNdZ"
      }
    },
    {
      "cell_type": "code",
      "source": [
        "with open(os.path.join(PATH_TO_DATA, \"train_raw_data.jsonl\")) as fin:\n",
        "    # прочтем 419 строку\n",
        "    for i in range(419):\n",
        "        line = fin.readline()\n",
        "    \n",
        "    # переведем JSON в питоновский словарь \n",
        "    match = json.loads(line)"
      ],
      "metadata": {
        "papermill": {
          "duration": 0.514659,
          "end_time": "2022-02-13T23:29:33.685074",
          "exception": false,
          "start_time": "2022-02-13T23:29:33.170415",
          "status": "completed"
        },
        "tags": [],
        "id": "2vIyb1ONeNdZ"
      },
      "execution_count": null,
      "outputs": []
    },
    {
      "cell_type": "code",
      "source": [
        "player = match[\"players\"][9]\n",
        "player[\"kills\"], player[\"deaths\"], player[\"assists\"]"
      ],
      "metadata": {
        "papermill": {
          "duration": 0.057975,
          "end_time": "2022-02-13T23:29:33.792713",
          "exception": false,
          "start_time": "2022-02-13T23:29:33.734738",
          "status": "completed"
        },
        "tags": [],
        "id": "QJRJwdhQeNdZ",
        "colab": {
          "base_uri": "https://localhost:8080/"
        },
        "outputId": "1147999a-cf23-4696-ce0e-dc646150c4c1"
      },
      "execution_count": null,
      "outputs": [
        {
          "output_type": "execute_result",
          "data": {
            "text/plain": [
              "(0, 5, 5)"
            ]
          },
          "metadata": {},
          "execution_count": 36
        }
      ]
    },
    {
      "cell_type": "markdown",
      "source": [
        "KDA - может быть неплохим признаком, этот показатель считается как:\n",
        "    \n",
        "<center>$KDA = \\frac{K + A}{D}$"
      ],
      "metadata": {
        "papermill": {
          "duration": 0.047795,
          "end_time": "2022-02-13T23:29:33.888962",
          "exception": false,
          "start_time": "2022-02-13T23:29:33.841167",
          "status": "completed"
        },
        "tags": [],
        "id": "A4FcdvrweNdZ"
      }
    },
    {
      "cell_type": "markdown",
      "source": [
        "#### Сделаем чтение файла с сырыми данными и добавление новых признаков удобным"
      ],
      "metadata": {
        "papermill": {
          "duration": 0.052753,
          "end_time": "2022-02-13T23:29:34.742623",
          "exception": false,
          "start_time": "2022-02-13T23:29:34.68987",
          "status": "completed"
        },
        "tags": [],
        "id": "H-_o7nEgeNda"
      }
    },
    {
      "cell_type": "markdown",
      "source": [
        "В этот раз для чтение `json` файлов лучше использовать библиотеку `ujson`, иначе все будет слишком долго :("
      ],
      "metadata": {
        "papermill": {
          "duration": 0.051195,
          "end_time": "2022-02-13T23:29:34.845611",
          "exception": false,
          "start_time": "2022-02-13T23:29:34.794416",
          "status": "completed"
        },
        "tags": [],
        "id": "fr_TOJXieNda"
      }
    },
    {
      "cell_type": "code",
      "source": [
        "!pip install ujson"
      ],
      "metadata": {
        "colab": {
          "base_uri": "https://localhost:8080/"
        },
        "id": "bUNmmBljk50r",
        "outputId": "0a9f5b80-8ec3-470a-add1-510a501a282d"
      },
      "execution_count": null,
      "outputs": [
        {
          "output_type": "stream",
          "name": "stdout",
          "text": [
            "Looking in indexes: https://pypi.org/simple, https://us-python.pkg.dev/colab-wheels/public/simple/\n",
            "Collecting ujson\n",
            "  Downloading ujson-5.7.0-cp39-cp39-manylinux_2_17_x86_64.manylinux2014_x86_64.whl (52 kB)\n",
            "\u001b[2K     \u001b[90m━━━━━━━━━━━━━━━━━━━━━━━━━━━━━━━━━━━━━━━━\u001b[0m \u001b[32m52.8/52.8 KB\u001b[0m \u001b[31m5.8 MB/s\u001b[0m eta \u001b[36m0:00:00\u001b[0m\n",
            "\u001b[?25hInstalling collected packages: ujson\n",
            "Successfully installed ujson-5.7.0\n"
          ]
        }
      ]
    },
    {
      "cell_type": "code",
      "source": [
        "try:\n",
        "    import ujson as json\n",
        "except ModuleNotFoundError:\n",
        "    import json\n",
        "    print (\"Подумайте об установке ujson, чтобы работать с JSON объектами быстрее\")\n",
        "    \n",
        "try:\n",
        "    from tqdm.notebook import tqdm\n",
        "except ModuleNotFoundError:\n",
        "    tqdm_notebook = lambda x: x\n",
        "    print (\"Подумайте об установке tqdm, чтобы следить за прогрессом\")\n",
        "\n",
        "    \n",
        "def read_matches(matches_file, total_matches=31698, n_matches_to_read=None):\n",
        "    \"\"\"\n",
        "    Аргуент\n",
        "    -------\n",
        "    matches_file: JSON файл с сырыми данными\n",
        "    \n",
        "    Результат\n",
        "    ---------\n",
        "    Возвращает записи о каждом матче\n",
        "    \"\"\"\n",
        "    \n",
        "    if n_matches_to_read is None:\n",
        "        n_matches_to_read = total_matches\n",
        "        \n",
        "    c = 0\n",
        "    with open(matches_file) as fin:\n",
        "        for line in tqdm(fin, total=total_matches):\n",
        "            if c >= n_matches_to_read:\n",
        "                break\n",
        "            else:\n",
        "                c += 1\n",
        "                yield json.loads(line)"
      ],
      "metadata": {
        "papermill": {
          "duration": 0.069503,
          "end_time": "2022-02-13T23:29:34.966941",
          "exception": false,
          "start_time": "2022-02-13T23:29:34.897438",
          "status": "completed"
        },
        "tags": [],
        "id": "WLBrmdz3eNda"
      },
      "execution_count": 165,
      "outputs": []
    },
    {
      "cell_type": "markdown",
      "source": [
        "#### Чтение данных в цикле\n",
        "\n",
        "Чтение всех данных занимает 1-2 минуты, поэтому для начала можно попробовать следующее:\n",
        "\n",
        "1. Читать 10-50 игр\n",
        "2. Написать код для работы с этими JSON объектами\n",
        "3. Убедиться, что все работает\n",
        "4. Запустить код на всем датасете\n",
        "5. Сохранить результат в `pickle` файл, чтобы в следующий раз не переделывать все заново"
      ],
      "metadata": {
        "papermill": {
          "duration": 0.052275,
          "end_time": "2022-02-13T23:29:35.07086",
          "exception": false,
          "start_time": "2022-02-13T23:29:35.018585",
          "status": "completed"
        },
        "tags": [],
        "id": "BcdQvN-QeNdb"
      }
    },
    {
      "cell_type": "markdown",
      "source": [
        "## <left>Feature engineering"
      ],
      "metadata": {
        "papermill": {
          "duration": 0.051565,
          "end_time": "2022-02-13T23:29:35.175139",
          "exception": false,
          "start_time": "2022-02-13T23:29:35.123574",
          "status": "completed"
        },
        "tags": [],
        "id": "W7eLfzoLeNdb"
      }
    },
    {
      "cell_type": "markdown",
      "source": [
        "Напишем функцию, которая поможет нам легче добавлять новые признаки."
      ],
      "metadata": {
        "papermill": {
          "duration": 0.051315,
          "end_time": "2022-02-13T23:29:35.278664",
          "exception": false,
          "start_time": "2022-02-13T23:29:35.227349",
          "status": "completed"
        },
        "tags": [],
        "id": "4i_EZYEzeNdb"
      }
    },
    {
      "cell_type": "code",
      "source": [
        "def add_new_features(df_features, matches_file, total_matches):\n",
        "    \"\"\"\n",
        "    Аргуенты\n",
        "    -------\n",
        "    df_features: таблица с данными\n",
        "    matches_file: JSON файл с сырыми данными\n",
        "    \n",
        "    Результат\n",
        "    ---------\n",
        "    Добавляет новые признаки в таблицу\n",
        "    \"\"\"\n",
        "    \n",
        "    for match in read_matches(matches_file, total_matches):\n",
        "        match_id_hash = match['match_id_hash']\n",
        "\n",
        "        # Посчитаем количество разрушенных вышек обеими командами\n",
        "        radiant_tower_kills = 0\n",
        "        dire_tower_kills = 0\n",
        "        for objective in match[\"objectives\"]:\n",
        "            if objective[\"type\"] == \"CHAT_MESSAGE_TOWER_KILL\":\n",
        "                if objective[\"team\"] == 2:\n",
        "                    radiant_tower_kills += 1\n",
        "                if objective[\"team\"] == 3:\n",
        "                    dire_tower_kills += 1\n",
        "\n",
        "        df_features.loc[match_id_hash, \"radiant_tower_kills\"] = radiant_tower_kills\n",
        "        df_features.loc[match_id_hash, \"dire_tower_kills\"] = dire_tower_kills\n",
        "        df_features.loc[match_id_hash, \"diff_tower_kills\"] = radiant_tower_kills - dire_tower_kills\n",
        "\n",
        "        for idx, player in enumerate(match[\"players\"]):\n",
        "            deaths = player[\"deaths\"]\n",
        "            if deaths == 0:\n",
        "                deaths = 1\n",
        "            df_features.loc[match_id_hash, f\"KDA_{idx}\"] = (player[\"kills\"] + player[\"assists\"]) / deaths\n",
        "            #df_features.loc[match_id_hash, f\"ability_uses_{idx}\"] = sum(player[\"ability_uses\"].values())\n",
        "\n",
        "        \n",
        "        \n",
        "        # ... (/¯◡ ‿ ◡)/¯☆*:・ﾟ добавляем новые признаки ..."
      ],
      "metadata": {
        "papermill": {
          "duration": 0.063047,
          "end_time": "2022-02-13T23:29:35.393977",
          "exception": false,
          "start_time": "2022-02-13T23:29:35.33093",
          "status": "completed"
        },
        "tags": [],
        "id": "Ey7JSJl0eNdb"
      },
      "execution_count": 166,
      "outputs": []
    },
    {
      "cell_type": "code",
      "source": [
        "# Скопируем таблицу с признаками\n",
        "df_train_features_extended = df_train_features.copy()\n",
        "\n",
        "# Добавим новые\n",
        "add_new_features(df_train_features_extended, \n",
        "                 os.path.join(PATH_TO_DATA, \n",
        "                              \"train_raw_data.jsonl\"),\n",
        "                 total_matches=31698)"
      ],
      "metadata": {
        "papermill": {
          "duration": 100.250385,
          "end_time": "2022-02-13T23:31:15.696073",
          "exception": false,
          "start_time": "2022-02-13T23:29:35.445688",
          "status": "completed"
        },
        "tags": [],
        "id": "AkjYCro7eNdc",
        "colab": {
          "base_uri": "https://localhost:8080/",
          "height": 49,
          "referenced_widgets": [
            "487f7fb823d44b3bb7c918b36993a2c2",
            "8f4daf55bd8944069fc81f5aecb36f0a",
            "0dec3135005a412eb5b601f7b7016d2e",
            "5ccf005193084b61ba6468901e77ef78",
            "135fd790e03649d0b28e9f6413bfc4ee",
            "7d6c5e53fa444d698739b6c059682df2",
            "e18142ad264449339160ee81b564f00c",
            "fbc6f2123f11402d8f701d14b183b852",
            "856f802992d04c8f92128d55f3bf8df4",
            "a7f0c4e2b8064eadb312a35a7ff30431",
            "0c62d9972f934d3f8c3c2b965ba59dfa"
          ]
        },
        "outputId": "c3321031-2224-4c22-d99b-9f9689dbd6f7"
      },
      "execution_count": 167,
      "outputs": [
        {
          "output_type": "display_data",
          "data": {
            "text/plain": [
              "  0%|          | 0/31698 [00:00<?, ?it/s]"
            ],
            "application/vnd.jupyter.widget-view+json": {
              "version_major": 2,
              "version_minor": 0,
              "model_id": "487f7fb823d44b3bb7c918b36993a2c2"
            }
          },
          "metadata": {}
        }
      ]
    },
    {
      "cell_type": "code",
      "source": [
        "# Test\n",
        "df_test_features_extended = df_test_features.copy()\n",
        "\n",
        "add_new_features(df_test_features_extended, \n",
        "                 os.path.join(PATH_TO_DATA, \n",
        "                              \"test_raw_data.jsonl\"),\n",
        "                 total_matches=7977)"
      ],
      "metadata": {
        "colab": {
          "base_uri": "https://localhost:8080/",
          "height": 49,
          "referenced_widgets": [
            "abba51e8fc0a40ceb394569de2ea83c0",
            "e393b9ec59614689b0a08523b051c35e",
            "1b228dc91f1e451d8dbe746af67bb783",
            "ad1733939b5c42ddaa06c64bf5bc0194",
            "67149cb86f2a4403bf87b5b026232358",
            "072d9b2cb13943c4affc43b6b812acb5",
            "5235dcb162114cb2a8dc9dfac776fd62",
            "772837f13466453bbde6220db5478272",
            "dfc3ed4b01e24a65a0446cd2c9034a64",
            "7734e7525ed241c08d4d9ff6cc8849f5",
            "59d03acda79742898d1f78612e2c7c22"
          ]
        },
        "id": "DomSF_WnwLIl",
        "outputId": "5873b600-aa85-4616-cc10-2c88a7f3784d"
      },
      "execution_count": 168,
      "outputs": [
        {
          "output_type": "display_data",
          "data": {
            "text/plain": [
              "  0%|          | 0/7977 [00:00<?, ?it/s]"
            ],
            "application/vnd.jupyter.widget-view+json": {
              "version_major": 2,
              "version_minor": 0,
              "model_id": "abba51e8fc0a40ceb394569de2ea83c0"
            }
          },
          "metadata": {}
        }
      ]
    },
    {
      "cell_type": "markdown",
      "source": [
        "## <left>Наша первая модель"
      ],
      "metadata": {
        "papermill": {
          "duration": 0.046788,
          "end_time": "2022-02-13T23:28:26.547845",
          "exception": false,
          "start_time": "2022-02-13T23:28:26.501057",
          "status": "completed"
        },
        "tags": [],
        "id": "qyshv8wFeNdT"
      }
    },
    {
      "cell_type": "code",
      "source": [
        "df_train_features_extended.drop(columns=['game_mode', 'lobby_type'], inplace=True)\n",
        "df_test_features_extended.drop(columns=['game_mode', 'lobby_type'], inplace=True)"
      ],
      "metadata": {
        "id": "lntFyZIdnMF7"
      },
      "execution_count": 169,
      "outputs": []
    },
    {
      "cell_type": "code",
      "source": [
        "id_columns = ['r1_hero_id', 'r2_hero_id', 'r3_hero_id', 'r4_hero_id', 'r5_hero_id', 'd1_hero_id',\n",
        "             'd2_hero_id', 'd3_hero_id', 'd4_hero_id', 'd5_hero_id']"
      ],
      "metadata": {
        "trusted": true,
        "id": "sz9G9IEseNdU"
      },
      "execution_count": 170,
      "outputs": []
    },
    {
      "cell_type": "code",
      "source": [
        "ct = ColumnTransformer(transformers=[(\"ohe\", OneHotEncoder(drop=\"first\"), id_columns)], remainder='passthrough')"
      ],
      "metadata": {
        "trusted": true,
        "id": "ybe6_vQSeNdU"
      },
      "execution_count": 171,
      "outputs": []
    },
    {
      "cell_type": "code",
      "source": [
        "X_ohe = ct.fit_transform(df_train_features_extended)"
      ],
      "metadata": {
        "id": "_Vj45GaGnT9z"
      },
      "execution_count": 172,
      "outputs": []
    },
    {
      "cell_type": "code",
      "source": [
        "X_test_ohe = ct.transform(df_test_features_extended)"
      ],
      "metadata": {
        "id": "f99osMG-oQDd"
      },
      "execution_count": 173,
      "outputs": []
    },
    {
      "cell_type": "code",
      "source": [
        "#X = df_train_features.values\n",
        "y = df_train_targets[\"radiant_win\"].values.astype(\"int8\")"
      ],
      "metadata": {
        "papermill": {
          "duration": 0.078234,
          "end_time": "2022-02-13T23:28:26.672769",
          "exception": false,
          "start_time": "2022-02-13T23:28:26.594535",
          "status": "completed"
        },
        "tags": [],
        "trusted": true,
        "id": "sN-QmBSgeNdU"
      },
      "execution_count": 174,
      "outputs": []
    },
    {
      "cell_type": "markdown",
      "source": [
        "## <left>Кросс-валидация - подбираем фичи"
      ],
      "metadata": {
        "papermill": {
          "duration": 0.046122,
          "end_time": "2022-02-13T23:28:37.825794",
          "exception": false,
          "start_time": "2022-02-13T23:28:37.779672",
          "status": "completed"
        },
        "tags": [],
        "id": "ewLdgi5ieNdX"
      }
    },
    {
      "cell_type": "markdown",
      "source": [
        "Во многих случаях кросс-валидация оказывается лучше простого разбиения на test и train. Воспользуемся `ShuffleSplit` чтобы создать 5 70%/30% наборов данных."
      ],
      "metadata": {
        "papermill": {
          "duration": 0.047147,
          "end_time": "2022-02-13T23:28:37.919675",
          "exception": false,
          "start_time": "2022-02-13T23:28:37.872528",
          "status": "completed"
        },
        "tags": [],
        "id": "iMAk24nveNdX"
      }
    },
    {
      "cell_type": "code",
      "source": [
        "cv = ShuffleSplit(n_splits=5, test_size=0.3, random_state=SEED)"
      ],
      "metadata": {
        "papermill": {
          "duration": 0.054303,
          "end_time": "2022-02-13T23:28:38.021177",
          "exception": false,
          "start_time": "2022-02-13T23:28:37.966874",
          "status": "completed"
        },
        "tags": [],
        "trusted": true,
        "id": "3-Np4VRKeNdX"
      },
      "execution_count": null,
      "outputs": []
    },
    {
      "cell_type": "code",
      "source": [
        "%%time\n",
        "rf_model = RandomForestClassifier(n_estimators=300, max_depth=7, n_jobs=-1, random_state=SEED)\n",
        "cv_scores_rf = cross_val_score(rf_model, X_ohe, y, cv=cv, scoring=\"roc_auc\")"
      ],
      "metadata": {
        "colab": {
          "base_uri": "https://localhost:8080/"
        },
        "id": "SyTyJh5CeK47",
        "outputId": "b1da1671-b286-4dea-dadc-ee1e995fc0ee"
      },
      "execution_count": null,
      "outputs": [
        {
          "output_type": "stream",
          "name": "stdout",
          "text": [
            "CPU times: user 8.92 s, sys: 540 ms, total: 9.46 s\n",
            "Wall time: 1min 27s\n"
          ]
        }
      ]
    },
    {
      "cell_type": "code",
      "source": [
        "print(f\"Среднее значение ROC-AUC на кросс-валидации baseline: {cv_scores_rf.mean()}\")"
      ],
      "metadata": {
        "colab": {
          "base_uri": "https://localhost:8080/"
        },
        "id": "jN5J0jiheK78",
        "outputId": "c92673e6-88a5-4dbc-8ab9-97242f000833"
      },
      "execution_count": null,
      "outputs": [
        {
          "output_type": "stream",
          "name": "stdout",
          "text": [
            "Среднее значение ROC-AUC на кросс-валидации baseline: 0.7720210676055513\n"
          ]
        }
      ]
    },
    {
      "cell_type": "code",
      "source": [
        "print(f\"Среднее значение ROC-AUC на кросс-валидации (без game_mode, lobby_type): {cv_scores_rf.mean()}\")"
      ],
      "metadata": {
        "colab": {
          "base_uri": "https://localhost:8080/"
        },
        "id": "OyTx3ddPeK_s",
        "outputId": "d1c04803-5ee0-4542-dee9-b5f64f18b234"
      },
      "execution_count": null,
      "outputs": [
        {
          "output_type": "stream",
          "name": "stdout",
          "text": [
            "Среднее значение ROC-AUC на кросс-валидации (без game_mode, lobby_type): 0.7722427312022381\n"
          ]
        }
      ]
    },
    {
      "cell_type": "code",
      "source": [
        "print(f\"Среднее значение ROC-AUC на кросс-валидации (без game_mode, lobby_type, id): {cv_scores_rf.mean()}\")"
      ],
      "metadata": {
        "colab": {
          "base_uri": "https://localhost:8080/"
        },
        "id": "bdKsY-n_ew98",
        "outputId": "b23756af-b1ae-442d-f82f-2775e1cc9e4a"
      },
      "execution_count": null,
      "outputs": [
        {
          "output_type": "stream",
          "name": "stdout",
          "text": [
            "Среднее значение ROC-AUC на кросс-валидации (без game_mode, lobby_type, id): 0.7723945991018251\n"
          ]
        }
      ]
    },
    {
      "cell_type": "code",
      "source": [
        "print(f\"Среднее значение ROC-AUC на кросс-валидации (без game_mode, lobby_type + id - one-hot-encoded): {cv_scores_rf.mean()}\")"
      ],
      "metadata": {
        "colab": {
          "base_uri": "https://localhost:8080/"
        },
        "id": "Af3hy9QjexA2",
        "outputId": "df2dd442-b8ce-42f4-8e9e-1a05d1f033cc"
      },
      "execution_count": null,
      "outputs": [
        {
          "output_type": "stream",
          "name": "stdout",
          "text": [
            "Среднее значение ROC-AUC на кросс-валидации (без game_mode, lobby_type + id - one-hot-encoded): 0.775843473810893\n"
          ]
        }
      ]
    },
    {
      "cell_type": "code",
      "source": [
        "print(f\"Среднее значение ROC-AUC на кросс-валидации (без game_mode, lobby_type + id - one-hot-encoded + tower features): {cv_scores_rf.mean()}\")"
      ],
      "metadata": {
        "colab": {
          "base_uri": "https://localhost:8080/"
        },
        "id": "_ZZ65zQcexES",
        "outputId": "a24bbee5-9f5c-41b8-a0d5-a70ccf829027"
      },
      "execution_count": null,
      "outputs": [
        {
          "output_type": "stream",
          "name": "stdout",
          "text": [
            "Среднее значение ROC-AUC на кросс-валидации (без game_mode, lobby_type + id - one-hot-encoded + tower features): 0.7801170456423246\n"
          ]
        }
      ]
    },
    {
      "cell_type": "code",
      "source": [
        "print(f\"Среднее значение ROC-AUC на кросс-валидации (без game_mode, lobby_type + id - one-hot-encoded + tower features + KDA): {cv_scores_rf.mean()}\")"
      ],
      "metadata": {
        "colab": {
          "base_uri": "https://localhost:8080/"
        },
        "id": "OVQnD89MnddK",
        "outputId": "3b6ffee6-569a-4b2c-8063-b345f8ce9944"
      },
      "execution_count": null,
      "outputs": [
        {
          "output_type": "stream",
          "name": "stdout",
          "text": [
            "Среднее значение ROC-AUC на кросс-валидации (без game_mode, lobby_type + id - one-hot-encoded + tower features + KDA): 0.7851820680807531\n"
          ]
        }
      ]
    },
    {
      "cell_type": "markdown",
      "source": [
        "Ваааааааауууууууууууу"
      ],
      "metadata": {
        "id": "kP0XuvpPtTyQ"
      }
    },
    {
      "cell_type": "code",
      "source": [
        "print(f\"Среднее значение ROC-AUC на кросс-валидации (без game_mode, lobby_type + id - one-hot-encoded + tower features + \\n KDA + sum of ability_uses): {cv_scores_rf.mean()}\")"
      ],
      "metadata": {
        "colab": {
          "base_uri": "https://localhost:8080/"
        },
        "id": "19g-OHhpndgg",
        "outputId": "8f04b232-a6f3-4458-d5f9-4e1a5a45e9a8"
      },
      "execution_count": null,
      "outputs": [
        {
          "output_type": "stream",
          "name": "stdout",
          "text": [
            "Среднее значение ROC-AUC на кросс-валидации (без game_mode, lobby_type + id - one-hot-encoded + tower features + \n",
            " KDA + sum of ability_uses): 0.7848368945271874\n"
          ]
        }
      ]
    },
    {
      "cell_type": "markdown",
      "source": [
        "Не помогло"
      ],
      "metadata": {
        "id": "jHfqT-UXv2HM"
      }
    },
    {
      "cell_type": "markdown",
      "source": [
        "## Optuna"
      ],
      "metadata": {
        "id": "17FOBySpeNdW"
      }
    },
    {
      "cell_type": "code",
      "source": [
        "def objective(trial):\n",
        "    \"\"\"\n",
        "    Objective function to be optimized.\n",
        "    \"\"\"\n",
        "    param = {\n",
        "        \"n_estimators\": 200,\n",
        "        #criterion\": trial.suggest_categorical(\"criterion\", ['gini', 'entropy', 'log_loss']),\n",
        "        \"max_depth\": trial.suggest_int(\"max_depth\", 3, 60),\n",
        "        \"min_samples_split\": trial.suggest_int(\"min_samples_split\", 2, 40),\n",
        "    }\n",
        "    \n",
        "    cv = KFold(n_splits=3)\n",
        "    rf_model = RandomForestClassifier(**param, random_state=SEED, n_jobs=-1)\n",
        "\n",
        "    cv_scores_rf = cross_val_score(rf_model, X_ohe, y, cv=cv, scoring=\"roc_auc\")\n",
        "\n",
        "    return cv_scores_rf.mean()"
      ],
      "metadata": {
        "trusted": true,
        "id": "G35tLDk9eNdW"
      },
      "execution_count": null,
      "outputs": []
    },
    {
      "cell_type": "code",
      "source": [
        "study = optuna.create_study(direction=\"maximize\")\n",
        "study.optimize(objective, n_trials=30)\n",
        "\n",
        "#clear_output()"
      ],
      "metadata": {
        "trusted": true,
        "id": "Ap-KW6IAeNdX"
      },
      "execution_count": null,
      "outputs": []
    },
    {
      "cell_type": "code",
      "source": [
        "study.best_params, study.best_value"
      ],
      "metadata": {
        "colab": {
          "base_uri": "https://localhost:8080/"
        },
        "id": "sBkUR44lk-QI",
        "outputId": "76553776-4381-47b3-a590-e073ec8b888b"
      },
      "execution_count": null,
      "outputs": [
        {
          "output_type": "execute_result",
          "data": {
            "text/plain": [
              "({'max_depth': 27, 'min_samples_split': 27}, 0.7947916762191238)"
            ]
          },
          "metadata": {},
          "execution_count": 76
        }
      ]
    },
    {
      "cell_type": "code",
      "source": [
        "params = {'max_depth': 27, 'min_samples_split': 27}"
      ],
      "metadata": {
        "id": "to_Vz1i1Yotg"
      },
      "execution_count": null,
      "outputs": []
    },
    {
      "cell_type": "markdown",
      "source": [
        "## Увеличим количество деревьев"
      ],
      "metadata": {
        "id": "yv68xwmcYS5T"
      }
    },
    {
      "cell_type": "code",
      "source": [
        "cv = ShuffleSplit(n_splits=5, test_size=0.3, random_state=SEED)"
      ],
      "metadata": {
        "id": "CnPI6fiGvj06"
      },
      "execution_count": null,
      "outputs": []
    },
    {
      "cell_type": "code",
      "source": [
        "%%time\n",
        "rf_model = RandomForestClassifier(**params, n_estimators=1500, n_jobs=-1, random_state=SEED)\n",
        "cv_scores_rf = cross_val_score(rf_model, X_ohe, y, cv=cv, scoring=\"roc_auc\")"
      ],
      "metadata": {
        "papermill": {
          "duration": 54.652614,
          "end_time": "2022-02-13T23:29:32.721125",
          "exception": false,
          "start_time": "2022-02-13T23:28:38.068511",
          "status": "completed"
        },
        "tags": [],
        "trusted": true,
        "colab": {
          "base_uri": "https://localhost:8080/"
        },
        "id": "6NXx0KiFeNdX",
        "outputId": "4bd69566-c0d9-4044-9859-9f71c2e9a2c1"
      },
      "execution_count": null,
      "outputs": [
        {
          "output_type": "stream",
          "name": "stdout",
          "text": [
            "CPU times: user 1min 9s, sys: 3.87 s, total: 1min 13s\n",
            "Wall time: 32min 33s\n"
          ]
        }
      ]
    },
    {
      "cell_type": "code",
      "source": [
        "cv_scores_rf"
      ],
      "metadata": {
        "papermill": {
          "duration": 0.056037,
          "end_time": "2022-02-13T23:29:32.824411",
          "exception": false,
          "start_time": "2022-02-13T23:29:32.768374",
          "status": "completed"
        },
        "tags": [],
        "trusted": true,
        "colab": {
          "base_uri": "https://localhost:8080/"
        },
        "id": "jX9sQ4fzeNdY",
        "outputId": "7b08f316-e8bb-4ce8-9811-7ce6243222b9"
      },
      "execution_count": null,
      "outputs": [
        {
          "output_type": "execute_result",
          "data": {
            "text/plain": [
              "array([0.79625372, 0.79911942, 0.78910944, 0.79611321, 0.79550278])"
            ]
          },
          "metadata": {},
          "execution_count": 96
        }
      ]
    },
    {
      "cell_type": "code",
      "source": [
        "print(f\"Среднее значение ROC-AUC на кросс-валидации, n estimators = 200: {cv_scores_rf.mean()}\")"
      ],
      "metadata": {
        "trusted": true,
        "colab": {
          "base_uri": "https://localhost:8080/"
        },
        "id": "nzxKJgaseNdY",
        "outputId": "3a25d726-c94b-4c19-eb99-1de7803ac12c"
      },
      "execution_count": null,
      "outputs": [
        {
          "output_type": "stream",
          "name": "stdout",
          "text": [
            "Среднее значение ROC-AUC на кросс-валидации, n estimators = 200: 0.7927691993663354\n"
          ]
        }
      ]
    },
    {
      "cell_type": "code",
      "source": [
        "print(f\"Среднее значение ROC-AUC на кросс-валидации, n estimators = 500: {cv_scores_rf.mean()}\")"
      ],
      "metadata": {
        "colab": {
          "base_uri": "https://localhost:8080/"
        },
        "id": "QscoYFzOYSA8",
        "outputId": "8e1642e0-8cf5-4af4-b1fe-96fd9e4a6f40"
      },
      "execution_count": null,
      "outputs": [
        {
          "output_type": "stream",
          "name": "stdout",
          "text": [
            "Среднее значение ROC-AUC на кросс-валидации, n estimators = 500: 0.7942713814136482\n"
          ]
        }
      ]
    },
    {
      "cell_type": "code",
      "source": [
        "print(f\"Среднее значение ROC-AUC на кросс-валидации, n estimators = 1000: {cv_scores_rf.mean()}\")"
      ],
      "metadata": {
        "colab": {
          "base_uri": "https://localhost:8080/"
        },
        "id": "v_U6LpI8YaBZ",
        "outputId": "f364eb8d-d789-430d-ad2a-946f5b4e9b3e"
      },
      "execution_count": null,
      "outputs": [
        {
          "output_type": "stream",
          "name": "stdout",
          "text": [
            "Среднее значение ROC-AUC на кросс-валидации, n estimators = 1000: 0.7949606181858409\n"
          ]
        }
      ]
    },
    {
      "cell_type": "code",
      "source": [
        "print(f\"Среднее значение ROC-AUC на кросс-валидации, n estimators = 1500: {cv_scores_rf.mean()}\")"
      ],
      "metadata": {
        "colab": {
          "base_uri": "https://localhost:8080/"
        },
        "id": "yxxanWxtYaFR",
        "outputId": "10236fd5-f1bd-428d-99c7-09d8e6e5ba6f"
      },
      "execution_count": null,
      "outputs": [
        {
          "output_type": "stream",
          "name": "stdout",
          "text": [
            "Среднее значение ROC-AUC на кросс-валидации, n estimators = 1500: 0.7952197124176128\n"
          ]
        }
      ]
    },
    {
      "cell_type": "code",
      "source": [
        "print(f\"Среднее значение ROC-AUC на кросс-валидации, n estimators = 2000: {cv_scores_rf.mean()}\")"
      ],
      "metadata": {
        "colab": {
          "base_uri": "https://localhost:8080/"
        },
        "id": "z-ilkHNMkkOV",
        "outputId": "d04c6d03-f0cb-46c5-aa92-fe1f95d68f7b"
      },
      "execution_count": null,
      "outputs": [
        {
          "output_type": "stream",
          "name": "stdout",
          "text": [
            "Среднее значение ROC-AUC на кросс-валидации, n estimators = 2000: 0.7953231552699084\n"
          ]
        }
      ]
    },
    {
      "cell_type": "markdown",
      "source": [
        "Кажентся, 1500 - оптимально"
      ],
      "metadata": {
        "id": "6Rfw9_kcLxxS"
      }
    },
    {
      "cell_type": "markdown",
      "source": [
        "## Обучим случайный лес"
      ],
      "metadata": {
        "papermill": {
          "duration": 0.04485,
          "end_time": "2022-02-13T23:28:26.961156",
          "exception": false,
          "start_time": "2022-02-13T23:28:26.916306",
          "status": "completed"
        },
        "tags": [],
        "id": "MbY2J3PteNdV"
      }
    },
    {
      "cell_type": "code",
      "source": [
        "%%time\n",
        "rf_model = RandomForestClassifier(**params, n_estimators=1500, n_jobs=-1, random_state=SEED)\n",
        "rf_model.fit(X_ohe, y)"
      ],
      "metadata": {
        "papermill": {
          "duration": 9.067224,
          "end_time": "2022-02-13T23:28:36.073116",
          "exception": false,
          "start_time": "2022-02-13T23:28:27.005892",
          "status": "completed"
        },
        "tags": [],
        "trusted": true,
        "colab": {
          "base_uri": "https://localhost:8080/",
          "height": 126
        },
        "id": "QOLb_y1EeNdV",
        "outputId": "ff744238-514a-46ff-e177-2a7c7b49652b"
      },
      "execution_count": null,
      "outputs": [
        {
          "output_type": "stream",
          "name": "stdout",
          "text": [
            "CPU times: user 17min 18s, sys: 856 ms, total: 17min 18s\n",
            "Wall time: 9min 57s\n"
          ]
        },
        {
          "output_type": "execute_result",
          "data": {
            "text/plain": [
              "RandomForestClassifier(max_depth=27, min_samples_split=27, n_estimators=1500,\n",
              "                       n_jobs=-1, random_state=10801)"
            ],
            "text/html": [
              "<style>#sk-container-id-1 {color: black;background-color: white;}#sk-container-id-1 pre{padding: 0;}#sk-container-id-1 div.sk-toggleable {background-color: white;}#sk-container-id-1 label.sk-toggleable__label {cursor: pointer;display: block;width: 100%;margin-bottom: 0;padding: 0.3em;box-sizing: border-box;text-align: center;}#sk-container-id-1 label.sk-toggleable__label-arrow:before {content: \"▸\";float: left;margin-right: 0.25em;color: #696969;}#sk-container-id-1 label.sk-toggleable__label-arrow:hover:before {color: black;}#sk-container-id-1 div.sk-estimator:hover label.sk-toggleable__label-arrow:before {color: black;}#sk-container-id-1 div.sk-toggleable__content {max-height: 0;max-width: 0;overflow: hidden;text-align: left;background-color: #f0f8ff;}#sk-container-id-1 div.sk-toggleable__content pre {margin: 0.2em;color: black;border-radius: 0.25em;background-color: #f0f8ff;}#sk-container-id-1 input.sk-toggleable__control:checked~div.sk-toggleable__content {max-height: 200px;max-width: 100%;overflow: auto;}#sk-container-id-1 input.sk-toggleable__control:checked~label.sk-toggleable__label-arrow:before {content: \"▾\";}#sk-container-id-1 div.sk-estimator input.sk-toggleable__control:checked~label.sk-toggleable__label {background-color: #d4ebff;}#sk-container-id-1 div.sk-label input.sk-toggleable__control:checked~label.sk-toggleable__label {background-color: #d4ebff;}#sk-container-id-1 input.sk-hidden--visually {border: 0;clip: rect(1px 1px 1px 1px);clip: rect(1px, 1px, 1px, 1px);height: 1px;margin: -1px;overflow: hidden;padding: 0;position: absolute;width: 1px;}#sk-container-id-1 div.sk-estimator {font-family: monospace;background-color: #f0f8ff;border: 1px dotted black;border-radius: 0.25em;box-sizing: border-box;margin-bottom: 0.5em;}#sk-container-id-1 div.sk-estimator:hover {background-color: #d4ebff;}#sk-container-id-1 div.sk-parallel-item::after {content: \"\";width: 100%;border-bottom: 1px solid gray;flex-grow: 1;}#sk-container-id-1 div.sk-label:hover label.sk-toggleable__label {background-color: #d4ebff;}#sk-container-id-1 div.sk-serial::before {content: \"\";position: absolute;border-left: 1px solid gray;box-sizing: border-box;top: 0;bottom: 0;left: 50%;z-index: 0;}#sk-container-id-1 div.sk-serial {display: flex;flex-direction: column;align-items: center;background-color: white;padding-right: 0.2em;padding-left: 0.2em;position: relative;}#sk-container-id-1 div.sk-item {position: relative;z-index: 1;}#sk-container-id-1 div.sk-parallel {display: flex;align-items: stretch;justify-content: center;background-color: white;position: relative;}#sk-container-id-1 div.sk-item::before, #sk-container-id-1 div.sk-parallel-item::before {content: \"\";position: absolute;border-left: 1px solid gray;box-sizing: border-box;top: 0;bottom: 0;left: 50%;z-index: -1;}#sk-container-id-1 div.sk-parallel-item {display: flex;flex-direction: column;z-index: 1;position: relative;background-color: white;}#sk-container-id-1 div.sk-parallel-item:first-child::after {align-self: flex-end;width: 50%;}#sk-container-id-1 div.sk-parallel-item:last-child::after {align-self: flex-start;width: 50%;}#sk-container-id-1 div.sk-parallel-item:only-child::after {width: 0;}#sk-container-id-1 div.sk-dashed-wrapped {border: 1px dashed gray;margin: 0 0.4em 0.5em 0.4em;box-sizing: border-box;padding-bottom: 0.4em;background-color: white;}#sk-container-id-1 div.sk-label label {font-family: monospace;font-weight: bold;display: inline-block;line-height: 1.2em;}#sk-container-id-1 div.sk-label-container {text-align: center;}#sk-container-id-1 div.sk-container {/* jupyter's `normalize.less` sets `[hidden] { display: none; }` but bootstrap.min.css set `[hidden] { display: none !important; }` so we also need the `!important` here to be able to override the default hidden behavior on the sphinx rendered scikit-learn.org. See: https://github.com/scikit-learn/scikit-learn/issues/21755 */display: inline-block !important;position: relative;}#sk-container-id-1 div.sk-text-repr-fallback {display: none;}</style><div id=\"sk-container-id-1\" class=\"sk-top-container\"><div class=\"sk-text-repr-fallback\"><pre>RandomForestClassifier(max_depth=27, min_samples_split=27, n_estimators=1500,\n",
              "                       n_jobs=-1, random_state=10801)</pre><b>In a Jupyter environment, please rerun this cell to show the HTML representation or trust the notebook. <br />On GitHub, the HTML representation is unable to render, please try loading this page with nbviewer.org.</b></div><div class=\"sk-container\" hidden><div class=\"sk-item\"><div class=\"sk-estimator sk-toggleable\"><input class=\"sk-toggleable__control sk-hidden--visually\" id=\"sk-estimator-id-1\" type=\"checkbox\" checked><label for=\"sk-estimator-id-1\" class=\"sk-toggleable__label sk-toggleable__label-arrow\">RandomForestClassifier</label><div class=\"sk-toggleable__content\"><pre>RandomForestClassifier(max_depth=27, min_samples_split=27, n_estimators=1500,\n",
              "                       n_jobs=-1, random_state=10801)</pre></div></div></div></div></div>"
            ]
          },
          "metadata": {},
          "execution_count": 102
        }
      ]
    },
    {
      "cell_type": "markdown",
      "source": [
        "## <left>Посылка"
      ],
      "metadata": {
        "papermill": {
          "duration": 0.046013,
          "end_time": "2022-02-13T23:28:36.970038",
          "exception": false,
          "start_time": "2022-02-13T23:28:36.924025",
          "status": "completed"
        },
        "tags": [],
        "id": "v3YlGonzeNdY"
      }
    },
    {
      "cell_type": "code",
      "source": [
        "y_test_pred = rf_model.predict_proba(X_test_ohe)[:, 1]\n",
        "\n",
        "df_submission = pd.DataFrame({\"radiant_win_prob\": y_test_pred}, \n",
        "                                 index=df_test_features.index)"
      ],
      "metadata": {
        "papermill": {
          "duration": 0.573434,
          "end_time": "2022-02-13T23:28:37.589831",
          "exception": false,
          "start_time": "2022-02-13T23:28:37.016397",
          "status": "completed"
        },
        "tags": [],
        "id": "B1nunBejeNdY"
      },
      "execution_count": null,
      "outputs": []
    },
    {
      "cell_type": "code",
      "source": [
        "submission_filename = \"submission_{}.csv\".format(\n",
        "    datetime.datetime.now().strftime(\"%Y-%m-%d_%H-%M-%S\"))\n",
        "df_submission.to_csv(submission_filename)\n",
        "print(\"Файл посылки сохранен, как: {}\".format(submission_filename))"
      ],
      "metadata": {
        "papermill": {
          "duration": 0.09114,
          "end_time": "2022-02-13T23:28:37.732839",
          "exception": false,
          "start_time": "2022-02-13T23:28:37.641699",
          "status": "completed"
        },
        "tags": [],
        "colab": {
          "base_uri": "https://localhost:8080/"
        },
        "id": "vLyXwZKTeNdZ",
        "outputId": "569cc671-0720-44d9-e436-f5308829f6cb"
      },
      "execution_count": null,
      "outputs": [
        {
          "output_type": "stream",
          "name": "stdout",
          "text": [
            "Файл посылки сохранен, как: submission_2023-04-09_13-34-04.csv\n"
          ]
        }
      ]
    },
    {
      "cell_type": "markdown",
      "source": [
        "## Catboost"
      ],
      "metadata": {
        "id": "nd9upeKYigk3"
      }
    },
    {
      "cell_type": "code",
      "source": [
        "!pip install catboost"
      ],
      "metadata": {
        "id": "lbb6e0aVjI6O"
      },
      "execution_count": null,
      "outputs": []
    },
    {
      "cell_type": "code",
      "source": [
        "from catboost import CatBoostClassifier"
      ],
      "metadata": {
        "id": "71zSD9OujNW1"
      },
      "execution_count": null,
      "outputs": []
    },
    {
      "cell_type": "code",
      "source": [
        "X_train, X_valid, y_train, y_valid = train_test_split(df_train_features_extended, \n",
        "                                                      y, \n",
        "                                                      test_size=0.3, \n",
        "                                                      random_state=SEED)"
      ],
      "metadata": {
        "id": "vgzz9ukIj8KS"
      },
      "execution_count": null,
      "outputs": []
    },
    {
      "cell_type": "code",
      "source": [
        "id_columns = ['r1_hero_id', 'r2_hero_id', 'r3_hero_id', 'r4_hero_id', 'r5_hero_id', 'd1_hero_id',\n",
        "             'd2_hero_id', 'd3_hero_id', 'd4_hero_id', 'd5_hero_id']"
      ],
      "metadata": {
        "id": "KnXBbgoPUI4l"
      },
      "execution_count": null,
      "outputs": []
    },
    {
      "cell_type": "code",
      "source": [
        "ct_classifier = CatBoostClassifier(cat_features=id_columns)"
      ],
      "metadata": {
        "id": "Kx0PZq_iiube"
      },
      "execution_count": null,
      "outputs": []
    },
    {
      "cell_type": "code",
      "source": [
        "ct_classifier.fit(X_train, y_train)"
      ],
      "metadata": {
        "id": "L2YeO-NViue0"
      },
      "execution_count": null,
      "outputs": []
    },
    {
      "cell_type": "code",
      "source": [
        "y_pred = ct_classifier.predict_proba(X_valid)[:, 1]"
      ],
      "metadata": {
        "id": "7Xj76c_xiuiG"
      },
      "execution_count": null,
      "outputs": []
    },
    {
      "cell_type": "code",
      "source": [
        "valid_score = roc_auc_score(y_valid, y_pred)\n",
        "print(\"ROC-AUC score на отложенной части:\", valid_score)"
      ],
      "metadata": {
        "colab": {
          "base_uri": "https://localhost:8080/"
        },
        "id": "GciwyGfhVODt",
        "outputId": "8a598e18-a2b6-4f44-8f7f-21eee1a55757"
      },
      "execution_count": null,
      "outputs": [
        {
          "output_type": "stream",
          "name": "stdout",
          "text": [
            "ROC-AUC score на отложенной части: 0.8044098232288559\n"
          ]
        }
      ]
    },
    {
      "cell_type": "code",
      "source": [
        "y_test_pred = ct_classifier.predict_proba(df_test_features_extended)[:, 1]\n",
        "\n",
        "df_submission = pd.DataFrame({\"radiant_win_prob\": y_test_pred}, \n",
        "                                 index=df_test_features.index)"
      ],
      "metadata": {
        "papermill": {
          "duration": 0.573434,
          "end_time": "2022-02-13T23:28:37.589831",
          "exception": false,
          "start_time": "2022-02-13T23:28:37.016397",
          "status": "completed"
        },
        "tags": [],
        "id": "mV6jLxu6Qm3l"
      },
      "execution_count": null,
      "outputs": []
    },
    {
      "cell_type": "code",
      "source": [
        "submission_filename = \"submission_{}.csv\".format(\n",
        "    datetime.datetime.now().strftime(\"%Y-%m-%d_%H-%M-%S\"))\n",
        "df_submission.to_csv(submission_filename)\n",
        "print(\"Файл посылки сохранен, как: {}\".format(submission_filename))"
      ],
      "metadata": {
        "papermill": {
          "duration": 0.09114,
          "end_time": "2022-02-13T23:28:37.732839",
          "exception": false,
          "start_time": "2022-02-13T23:28:37.641699",
          "status": "completed"
        },
        "tags": [],
        "colab": {
          "base_uri": "https://localhost:8080/"
        },
        "outputId": "e1e3a70a-0916-4cc5-e0c3-1019f76ee708",
        "id": "Rsqs84SBQm3l"
      },
      "execution_count": null,
      "outputs": [
        {
          "output_type": "stream",
          "name": "stdout",
          "text": [
            "Файл посылки сохранен, как: submission_2023-04-09_14-04-48.csv\n"
          ]
        }
      ]
    },
    {
      "cell_type": "markdown",
      "source": [
        "## LightGBM"
      ],
      "metadata": {
        "id": "o6j24LmOaDwg"
      }
    },
    {
      "cell_type": "code",
      "source": [
        "from lightgbm import LGBMClassifier"
      ],
      "metadata": {
        "id": "XT2KzEWbQh3m"
      },
      "execution_count": 175,
      "outputs": []
    },
    {
      "cell_type": "code",
      "source": [
        "cv = ShuffleSplit(n_splits=5, test_size=0.3, random_state=SEED)"
      ],
      "metadata": {
        "papermill": {
          "duration": 0.054303,
          "end_time": "2022-02-13T23:28:38.021177",
          "exception": false,
          "start_time": "2022-02-13T23:28:37.966874",
          "status": "completed"
        },
        "tags": [],
        "trusted": true,
        "id": "T-jRYqZZablS"
      },
      "execution_count": null,
      "outputs": []
    },
    {
      "cell_type": "code",
      "source": [
        "%%time\n",
        "lgbm_model = LGBMClassifier(n_jobs=-1, random_state=SEED)\n",
        "cv_scores_rf = cross_val_score(lgbm_model, X_ohe, y, cv=cv, scoring=\"roc_auc\")"
      ],
      "metadata": {
        "colab": {
          "base_uri": "https://localhost:8080/"
        },
        "outputId": "46dc9e2c-5f06-4b59-a408-880ca93aff7f",
        "id": "XgHyMYJ-ablT"
      },
      "execution_count": null,
      "outputs": [
        {
          "output_type": "stream",
          "name": "stdout",
          "text": [
            "CPU times: user 41.1 s, sys: 188 ms, total: 41.3 s\n",
            "Wall time: 25.1 s\n"
          ]
        }
      ]
    },
    {
      "cell_type": "code",
      "source": [
        "print(f\"Среднее значение ROC-AUC на кросс-валидации baseline: {cv_scores_rf.mean()}\")"
      ],
      "metadata": {
        "colab": {
          "base_uri": "https://localhost:8080/"
        },
        "outputId": "f0d04224-3e7f-4f72-f5ab-25208e1a177b",
        "id": "Pn32kNtDablU"
      },
      "execution_count": null,
      "outputs": [
        {
          "output_type": "stream",
          "name": "stdout",
          "text": [
            "Среднее значение ROC-AUC на кросс-валидации baseline: 0.7998659813374207\n"
          ]
        }
      ]
    },
    {
      "cell_type": "code",
      "source": [
        "def objective(trial):\n",
        "    \"\"\"\n",
        "    Objective function to be optimized.\n",
        "    \"\"\"\n",
        "    param = {\n",
        "        \"num_leaves\": trial.suggest_int(\"num_leaves\", 10, 60),\n",
        "        \"max_depth\": trial.suggest_int(\"max_depth\", 1, 50),\n",
        "        \"learning_rate\": trial.suggest_float(\"learning_rate\", 0.05, 0.1),\n",
        "        \"n_estimators\": trial.suggest_int(\"n_estimators\", 50, 1000)\n",
        "        #\"min_split_gain\": trial.suggest_float(\"min_split_gain\", 0, 1),\n",
        "        #\"min_child_weight\": trial.suggest_float(\"min_split_gain\", 0, 1),\n",
        "    }\n",
        "    cv = KFold(n_splits=5)\n",
        "    lgbm = LGBMClassifier(**param)\n",
        "    score = cross_val_score(lgbm, X_ohe, y, scoring='roc_auc', cv=cv)\n",
        "    \n",
        "    return score.mean()"
      ],
      "metadata": {
        "id": "z0z4R0tEbydD"
      },
      "execution_count": null,
      "outputs": []
    },
    {
      "cell_type": "code",
      "source": [
        "study = optuna.create_study(direction=\"maximize\")\n",
        "study.optimize(objective, n_trials=50)\n",
        "\n",
        "clear_output()"
      ],
      "metadata": {
        "id": "vQvHmxoDcBFL"
      },
      "execution_count": null,
      "outputs": []
    },
    {
      "cell_type": "code",
      "source": [
        "study.best_params, study.best_value"
      ],
      "metadata": {
        "colab": {
          "base_uri": "https://localhost:8080/"
        },
        "id": "zAGwUXlKcBIi",
        "outputId": "6909ecff-abca-4ca7-83d2-98360b09232a"
      },
      "execution_count": null,
      "outputs": [
        {
          "output_type": "execute_result",
          "data": {
            "text/plain": [
              "({'num_leaves': 39,\n",
              "  'max_depth': 8,\n",
              "  'learning_rate': 0.053159958057109824,\n",
              "  'n_estimators': 866},\n",
              " 0.808033477878291)"
            ]
          },
          "metadata": {},
          "execution_count": 155
        }
      ]
    },
    {
      "cell_type": "code",
      "source": [
        "params = study.best_params"
      ],
      "metadata": {
        "id": "hGMnGqGQcBMS"
      },
      "execution_count": null,
      "outputs": []
    },
    {
      "cell_type": "code",
      "source": [
        "params = {'num_leaves': 39,\n",
        "        'max_depth': 8,\n",
        "        'learning_rate': 0.053159958057109824,\n",
        "        'n_estimators': 866}"
      ],
      "metadata": {
        "id": "g50Sn8bSEiHt"
      },
      "execution_count": 176,
      "outputs": []
    },
    {
      "cell_type": "code",
      "source": [
        "%%time\n",
        "lgbm = LGBMClassifier(**params)\n",
        "lgbm.fit(X_ohe, y)"
      ],
      "metadata": {
        "papermill": {
          "duration": 9.067224,
          "end_time": "2022-02-13T23:28:36.073116",
          "exception": false,
          "start_time": "2022-02-13T23:28:27.005892",
          "status": "completed"
        },
        "tags": [],
        "trusted": true,
        "colab": {
          "base_uri": "https://localhost:8080/",
          "height": 127
        },
        "outputId": "9f0b2044-3a8f-4780-e007-434f17dd7d7b",
        "id": "XMvCN9uU52xd"
      },
      "execution_count": 177,
      "outputs": [
        {
          "output_type": "stream",
          "name": "stdout",
          "text": [
            "CPU times: user 56.4 s, sys: 236 ms, total: 56.6 s\n",
            "Wall time: 33.6 s\n"
          ]
        },
        {
          "output_type": "execute_result",
          "data": {
            "text/plain": [
              "LGBMClassifier(learning_rate=0.053159958057109824, max_depth=8,\n",
              "               n_estimators=866, num_leaves=39)"
            ],
            "text/html": [
              "<style>#sk-container-id-4 {color: black;background-color: white;}#sk-container-id-4 pre{padding: 0;}#sk-container-id-4 div.sk-toggleable {background-color: white;}#sk-container-id-4 label.sk-toggleable__label {cursor: pointer;display: block;width: 100%;margin-bottom: 0;padding: 0.3em;box-sizing: border-box;text-align: center;}#sk-container-id-4 label.sk-toggleable__label-arrow:before {content: \"▸\";float: left;margin-right: 0.25em;color: #696969;}#sk-container-id-4 label.sk-toggleable__label-arrow:hover:before {color: black;}#sk-container-id-4 div.sk-estimator:hover label.sk-toggleable__label-arrow:before {color: black;}#sk-container-id-4 div.sk-toggleable__content {max-height: 0;max-width: 0;overflow: hidden;text-align: left;background-color: #f0f8ff;}#sk-container-id-4 div.sk-toggleable__content pre {margin: 0.2em;color: black;border-radius: 0.25em;background-color: #f0f8ff;}#sk-container-id-4 input.sk-toggleable__control:checked~div.sk-toggleable__content {max-height: 200px;max-width: 100%;overflow: auto;}#sk-container-id-4 input.sk-toggleable__control:checked~label.sk-toggleable__label-arrow:before {content: \"▾\";}#sk-container-id-4 div.sk-estimator input.sk-toggleable__control:checked~label.sk-toggleable__label {background-color: #d4ebff;}#sk-container-id-4 div.sk-label input.sk-toggleable__control:checked~label.sk-toggleable__label {background-color: #d4ebff;}#sk-container-id-4 input.sk-hidden--visually {border: 0;clip: rect(1px 1px 1px 1px);clip: rect(1px, 1px, 1px, 1px);height: 1px;margin: -1px;overflow: hidden;padding: 0;position: absolute;width: 1px;}#sk-container-id-4 div.sk-estimator {font-family: monospace;background-color: #f0f8ff;border: 1px dotted black;border-radius: 0.25em;box-sizing: border-box;margin-bottom: 0.5em;}#sk-container-id-4 div.sk-estimator:hover {background-color: #d4ebff;}#sk-container-id-4 div.sk-parallel-item::after {content: \"\";width: 100%;border-bottom: 1px solid gray;flex-grow: 1;}#sk-container-id-4 div.sk-label:hover label.sk-toggleable__label {background-color: #d4ebff;}#sk-container-id-4 div.sk-serial::before {content: \"\";position: absolute;border-left: 1px solid gray;box-sizing: border-box;top: 0;bottom: 0;left: 50%;z-index: 0;}#sk-container-id-4 div.sk-serial {display: flex;flex-direction: column;align-items: center;background-color: white;padding-right: 0.2em;padding-left: 0.2em;position: relative;}#sk-container-id-4 div.sk-item {position: relative;z-index: 1;}#sk-container-id-4 div.sk-parallel {display: flex;align-items: stretch;justify-content: center;background-color: white;position: relative;}#sk-container-id-4 div.sk-item::before, #sk-container-id-4 div.sk-parallel-item::before {content: \"\";position: absolute;border-left: 1px solid gray;box-sizing: border-box;top: 0;bottom: 0;left: 50%;z-index: -1;}#sk-container-id-4 div.sk-parallel-item {display: flex;flex-direction: column;z-index: 1;position: relative;background-color: white;}#sk-container-id-4 div.sk-parallel-item:first-child::after {align-self: flex-end;width: 50%;}#sk-container-id-4 div.sk-parallel-item:last-child::after {align-self: flex-start;width: 50%;}#sk-container-id-4 div.sk-parallel-item:only-child::after {width: 0;}#sk-container-id-4 div.sk-dashed-wrapped {border: 1px dashed gray;margin: 0 0.4em 0.5em 0.4em;box-sizing: border-box;padding-bottom: 0.4em;background-color: white;}#sk-container-id-4 div.sk-label label {font-family: monospace;font-weight: bold;display: inline-block;line-height: 1.2em;}#sk-container-id-4 div.sk-label-container {text-align: center;}#sk-container-id-4 div.sk-container {/* jupyter's `normalize.less` sets `[hidden] { display: none; }` but bootstrap.min.css set `[hidden] { display: none !important; }` so we also need the `!important` here to be able to override the default hidden behavior on the sphinx rendered scikit-learn.org. See: https://github.com/scikit-learn/scikit-learn/issues/21755 */display: inline-block !important;position: relative;}#sk-container-id-4 div.sk-text-repr-fallback {display: none;}</style><div id=\"sk-container-id-4\" class=\"sk-top-container\"><div class=\"sk-text-repr-fallback\"><pre>LGBMClassifier(learning_rate=0.053159958057109824, max_depth=8,\n",
              "               n_estimators=866, num_leaves=39)</pre><b>In a Jupyter environment, please rerun this cell to show the HTML representation or trust the notebook. <br />On GitHub, the HTML representation is unable to render, please try loading this page with nbviewer.org.</b></div><div class=\"sk-container\" hidden><div class=\"sk-item\"><div class=\"sk-estimator sk-toggleable\"><input class=\"sk-toggleable__control sk-hidden--visually\" id=\"sk-estimator-id-4\" type=\"checkbox\" checked><label for=\"sk-estimator-id-4\" class=\"sk-toggleable__label sk-toggleable__label-arrow\">LGBMClassifier</label><div class=\"sk-toggleable__content\"><pre>LGBMClassifier(learning_rate=0.053159958057109824, max_depth=8,\n",
              "               n_estimators=866, num_leaves=39)</pre></div></div></div></div></div>"
            ]
          },
          "metadata": {},
          "execution_count": 177
        }
      ]
    },
    {
      "cell_type": "code",
      "source": [
        "y_test_pred = lgbm.predict_proba(X_test_ohe)[:, 1]\n",
        "\n",
        "df_submission = pd.DataFrame({\"radiant_win_prob\": y_test_pred}, \n",
        "                                 index=df_test_features.index)"
      ],
      "metadata": {
        "papermill": {
          "duration": 0.573434,
          "end_time": "2022-02-13T23:28:37.589831",
          "exception": false,
          "start_time": "2022-02-13T23:28:37.016397",
          "status": "completed"
        },
        "tags": [],
        "id": "x3mcvaI952xs"
      },
      "execution_count": 178,
      "outputs": []
    },
    {
      "cell_type": "code",
      "source": [
        "submission_filename = \"submission_{}.csv\".format(\n",
        "    datetime.datetime.now().strftime(\"%Y-%m-%d_%H-%M-%S\"))\n",
        "df_submission.to_csv(submission_filename)\n",
        "print(\"Файл посылки сохранен, как: {}\".format(submission_filename))"
      ],
      "metadata": {
        "papermill": {
          "duration": 0.09114,
          "end_time": "2022-02-13T23:28:37.732839",
          "exception": false,
          "start_time": "2022-02-13T23:28:37.641699",
          "status": "completed"
        },
        "tags": [],
        "colab": {
          "base_uri": "https://localhost:8080/"
        },
        "outputId": "86919ebd-c1d5-4cde-cc7a-b612e169e737",
        "id": "365PHCoJ52xs"
      },
      "execution_count": 179,
      "outputs": [
        {
          "output_type": "stream",
          "name": "stdout",
          "text": [
            "Файл посылки сохранен, как: submission_2023-04-09_17-32-26.csv\n"
          ]
        }
      ]
    }
  ]
}